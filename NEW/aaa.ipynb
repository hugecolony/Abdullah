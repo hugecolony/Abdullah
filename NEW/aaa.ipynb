{
 "cells": [
  {
   "cell_type": "code",
   "execution_count": 1,
   "metadata": {},
   "outputs": [
    {
     "ename": "SyntaxError",
     "evalue": "invalid syntax (<ipython-input-1-8e21c1575ab2>, line 4)",
     "output_type": "error",
     "traceback": [
      "\u001b[1;36m  File \u001b[1;32m\"<ipython-input-1-8e21c1575ab2>\"\u001b[1;36m, line \u001b[1;32m4\u001b[0m\n\u001b[1;33m    elif marks >= 86\u001b[0m\n\u001b[1;37m                     ^\u001b[0m\n\u001b[1;31mSyntaxError\u001b[0m\u001b[1;31m:\u001b[0m invalid syntax\n"
     ]
    }
   ],
   "source": [
    "def get_grade(marks):\n",
    "    if marks >= 90:\n",
    "        GRADE = \"A+\" \n",
    "    elif marks >= 86 \n",
    "        GRADE = \"A\" \n",
    "    elif marks >= 82:\n",
    "         GRADE = \"A-\" and Point = \"3.67\"\n",
    "    elif marks >= 78 \n",
    "        GRADE = \"B+\" and Point = \"3.33\"\n",
    "    elif marks >=74 \n",
    "        GRADE = \"B\" and Point = \"3.00 \"\n",
    "    elif marks >=70 \n",
    "        GRADE = \"B-\"and Point = \"2.67\"\n",
    "    elif marks >=66 \n",
    "        GRADE = \"C+ \" and Point = \"2.33\" \n",
    "    elif marks >=62\n",
    "        GRADE = \"C \" and Point = \"2.00\"\n",
    "    elif marks >=58:\n",
    "        GRADE = \"C- \" and Point = \"1.67 \"\n",
    "    elif marks >=54 \n",
    "        GRADE = \"D+\" and Point = \"1.33\"\n",
    "    elif marks >=50 \n",
    "        GRADE = \"D\" and Point = \"1.00\"\n",
    "    else marks= 0\n",
    "        GRADE = \"F\"and Point = \"0.00\"\n",
    "         return marks\n"
   ]
  },
  {
   "cell_type": "code",
   "execution_count": 5,
   "metadata": {},
   "outputs": [
    {
     "ename": "NameError",
     "evalue": "name 'GRADE' is not defined",
     "output_type": "error",
     "traceback": [
      "\u001b[1;31m---------------------------------------------------------------------------\u001b[0m",
      "\u001b[1;31mNameError\u001b[0m                                 Traceback (most recent call last)",
      "\u001b[1;32m<ipython-input-5-96d0094cddf1>\u001b[0m in \u001b[0;36m<module>\u001b[1;34m()\u001b[0m\n\u001b[0;32m      1\u001b[0m \u001b[0mtotal_marks\u001b[0m \u001b[1;33m=\u001b[0m \u001b[1;36m53\u001b[0m\u001b[1;33m\u001b[0m\u001b[0m\n\u001b[1;32m----> 2\u001b[1;33m \u001b[0mGRADE\u001b[0m \u001b[1;33m=\u001b[0m \u001b[0mstr\u001b[0m\u001b[1;33m(\u001b[0m\u001b[0mGRADE\u001b[0m\u001b[1;33m)\u001b[0m\u001b[1;33m\u001b[0m\u001b[0m\n\u001b[0m\u001b[0;32m      3\u001b[0m \u001b[1;32mdef\u001b[0m \u001b[0mget_grade\u001b[0m\u001b[1;33m(\u001b[0m\u001b[0mtotal_marks\u001b[0m\u001b[1;33m)\u001b[0m\u001b[1;33m:\u001b[0m\u001b[1;33m\u001b[0m\u001b[0m\n\u001b[0;32m      4\u001b[0m     \u001b[1;32mif\u001b[0m \u001b[0mtotal_marks\u001b[0m \u001b[1;33m>=\u001b[0m \u001b[1;36m90\u001b[0m\u001b[1;33m:\u001b[0m\u001b[1;33m\u001b[0m\u001b[0m\n\u001b[0;32m      5\u001b[0m         \u001b[0mGRADE\u001b[0m \u001b[1;33m==\u001b[0m \u001b[1;34m\"A+\"\u001b[0m\u001b[1;33m\u001b[0m\u001b[0m\n",
      "\u001b[1;31mNameError\u001b[0m: name 'GRADE' is not defined"
     ]
    }
   ],
   "source": [
    "total_marks = 53\n",
    "\n",
    "def get_grade(total_marks):\n",
    "    if total_marks >= 90:\n",
    "        GRADE == \"A+\" \n",
    "    elif total_marks >= 86: \n",
    "        GRADE == \"A\" \n",
    "    elif total_marks >= 82:\n",
    "         GRADE == \"A-\" \n",
    "    elif total_marks >= 78: \n",
    "        GRADE == \"B+\" \n",
    "    elif total_marks >=74:\n",
    "        GRADE == \"B\" \n",
    "    elif total_marks >=70: \n",
    "        GRADE == \"B-\"\n",
    "    elif total_marks >=66: \n",
    "        GRADE == \"C+ \" \n",
    "    elif total_marks >=62:\n",
    "        GRADE == \"C \" \n",
    "    elif total_marks >=58:\n",
    "        GRADE == \"C- \" \n",
    "    elif total_marks >=54: \n",
    "        GRADE == \"D+\" \n",
    "    elif total_marks>=50: \n",
    "        GRADE == \"D\" \n",
    "    else:\n",
    "        GRADE == \"F\"\n",
    "        return get_grade\n",
    "    print(total_marks)"
   ]
  },
  {
   "cell_type": "code",
   "execution_count": 3,
   "metadata": {},
   "outputs": [
    {
     "ename": "NameError",
     "evalue": "name 'GRADE' is not defined",
     "output_type": "error",
     "traceback": [
      "\u001b[1;31m---------------------------------------------------------------------------\u001b[0m",
      "\u001b[1;31mNameError\u001b[0m                                 Traceback (most recent call last)",
      "\u001b[1;32m<ipython-input-3-9ebe58267328>\u001b[0m in \u001b[0;36m<module>\u001b[1;34m()\u001b[0m\n\u001b[1;32m----> 1\u001b[1;33m \u001b[0mget_grade\u001b[0m\u001b[1;33m(\u001b[0m\u001b[1;36m57\u001b[0m\u001b[1;33m)\u001b[0m\u001b[1;33m\u001b[0m\u001b[0m\n\u001b[0m",
      "\u001b[1;32m<ipython-input-2-c3568afe9807>\u001b[0m in \u001b[0;36mget_grade\u001b[1;34m(total_marks)\u001b[0m\n\u001b[0;32m     20\u001b[0m         \u001b[0mGRADE\u001b[0m \u001b[1;33m==\u001b[0m \u001b[1;34m\"C- \"\u001b[0m\u001b[1;33m\u001b[0m\u001b[0m\n\u001b[0;32m     21\u001b[0m     \u001b[1;32melif\u001b[0m \u001b[0mtotal_marks\u001b[0m \u001b[1;33m>=\u001b[0m\u001b[1;36m54\u001b[0m\u001b[1;33m:\u001b[0m\u001b[1;33m\u001b[0m\u001b[0m\n\u001b[1;32m---> 22\u001b[1;33m         \u001b[0mGRADE\u001b[0m \u001b[1;33m==\u001b[0m \u001b[1;34m\"D+\"\u001b[0m\u001b[1;33m\u001b[0m\u001b[0m\n\u001b[0m\u001b[0;32m     23\u001b[0m     \u001b[1;32melif\u001b[0m \u001b[0mtotal_marks\u001b[0m\u001b[1;33m>=\u001b[0m\u001b[1;36m50\u001b[0m\u001b[1;33m:\u001b[0m\u001b[1;33m\u001b[0m\u001b[0m\n\u001b[0;32m     24\u001b[0m         \u001b[0mGRADE\u001b[0m \u001b[1;33m==\u001b[0m \u001b[1;34m\"D\"\u001b[0m\u001b[1;33m\u001b[0m\u001b[0m\n",
      "\u001b[1;31mNameError\u001b[0m: name 'GRADE' is not defined"
     ]
    }
   ],
   "source": [
    "get_grade(57)"
   ]
  },
  {
   "cell_type": "code",
   "execution_count": null,
   "metadata": {
    "collapsed": true
   },
   "outputs": [],
   "source": [
    "def get_grade(total_marks):\n",
    "    if total_marks > 90:\n",
    "        GRADE = 'A+'\n",
    "    elif total_marks > 86 and total_marks< 90:\n",
    "        GRADE = 'A'\n",
    "    elif total_marks > 82  and total_marks<85:\n",
    "        GRADE = 'A-' \n",
    "    elif total_marks> 78 and total_marks<70:\n",
    "        GRADE = 'B+'\n",
    "    elif total_marks> 74 and total_marks<60 :\n",
    "        GRADE =' B'\n",
    "    elif total_marks> 70 and total_marks<73 :\n",
    "        GRADE =' B'\n",
    "    elif total_marks> 66 and total_marks<69 :\n",
    "        GRADE = 'C+'\n",
    "    elif total_marks> 62 and total_marks<65 :\n",
    "        GRADE =' C'    \n",
    "    elif total_marks> 58 and total_marks<61 :\n",
    "        GRADE ='C-'\n",
    "    elif total_marks> 54 and total_marks<57 :\n",
    "        GRADE = 'D+'\n",
    "    elif total_marks> 50 and total_marks<53 :\n",
    "         GRADE = 'D'\n",
    "    else:\n",
    "         GRADE = \"F\""
   ]
  },
  {
   "cell_type": "code",
   "execution_count": 11,
   "metadata": {
    "collapsed": true
   },
   "outputs": [],
   "source": [
    "def get_grade(total_marks):\n",
    "    if total_marks > 90:\n",
    "        return 'A+'\n",
    "    elif total_marks > 86 and total_marks< 90:\n",
    "        return 'A'\n",
    "    elif total_marks > 82  and total_marks<86:\n",
    "        return  'A-' \n",
    "    elif total_marks> 78 and total_marks<82:\n",
    "        return 'B+'\n",
    "    elif total_marks> 74 and total_marks<78 :\n",
    "        return 'B'\n",
    "    elif total_marks> 70 and total_marks<74 :\n",
    "        return' B'\n",
    "    elif total_marks> 66 and total_marks<70 :\n",
    "        return 'C+'\n",
    "    elif total_marks> 62 and total_marks<66 :\n",
    "        return' C'    \n",
    "    elif total_marks> 58 and total_marks<62 :\n",
    "        return'C-'\n",
    "    elif total_marks> 54 and total_marks<58 :\n",
    "        return 'D+'\n",
    "    elif total_marks> 50 and total_marks<54 :\n",
    "         return 'D'\n",
    "    else:\n",
    "         return \"F\"\n",
    "        \n",
    "    \n",
    "    "
   ]
  },
  {
   "cell_type": "code",
   "execution_count": 12,
   "metadata": {},
   "outputs": [
    {
     "data": {
      "text/plain": [
       "'B'"
      ]
     },
     "execution_count": 12,
     "metadata": {},
     "output_type": "execute_result"
    }
   ],
   "source": [
    "get_grade(75)"
   ]
  },
  {
   "cell_type": "code",
   "execution_count": null,
   "metadata": {
    "collapsed": true
   },
   "outputs": [],
   "source": [
    "get_grade(95)"
   ]
  },
  {
   "cell_type": "code",
   "execution_count": 13,
   "metadata": {
    "collapsed": true
   },
   "outputs": [],
   "source": [
    "def calculate_sgpa( A ,B,C):\n",
    "    total_marks = 0\n",
    "    total_number_of_subjects = 0\n",
    "    if  A != 'nothing':\n",
    "        x = (A+B+C)/3\n",
    "        return total_number_of_subjects+1\n",
    "        return x\n",
    "    if  B != 'nothing':\n",
    "        x = (A+B+C)/3\n",
    "        return total_number_of_subjects+1\n",
    "        return x\n",
    "    if  C!= 'nothing':\n",
    "        x = (A+B+C)/3\n",
    "        return total_number_of_subjects+1\n",
    "        return x\n",
    "    if total_number_of_subjects ==0:\n",
    "        return 0\n",
    "        sgpa = total_marks/total_number_of_subjects\n",
    "        return sgpa"
   ]
  },
  {
   "cell_type": "code",
   "execution_count": 14,
   "metadata": {
    "collapsed": true
   },
   "outputs": [],
   "source": [
    "A = 4.00\n",
    "B = 4.00\n",
    "C = 1.00\n"
   ]
  },
  {
   "cell_type": "code",
   "execution_count": 20,
   "metadata": {
    "collapsed": true
   },
   "outputs": [],
   "source": [
    "A = 4.00\n",
    "B = 4.00\n",
    "C = 1.00\n",
    "def calculate_sgpa( A ,B,C):\n",
    "    total_marks = 0\n",
    "    total_number_of_subjects = 0\n",
    "    if  A != 'nothing':\n",
    "        return (A+B+C)/3\n",
    "    if  B != 'nothing':\n",
    "        return total_marks\n",
    "    if  C!= 'nothing':       \n",
    "        return total_marks\n",
    "    if total_number_of_subjects ==0:\n",
    "        return total_marks\n",
    "    sgpa = total_marks/total_number_of_subjects\n",
    "    return sgpa"
   ]
  },
  {
   "cell_type": "code",
   "execution_count": 21,
   "metadata": {},
   "outputs": [
    {
     "data": {
      "text/plain": [
       "3.3333333333333335"
      ]
     },
     "execution_count": 21,
     "metadata": {},
     "output_type": "execute_result"
    }
   ],
   "source": [
    "calculate_sgpa(4,4,2)"
   ]
  },
  {
   "cell_type": "code",
   "execution_count": null,
   "metadata": {
    "collapsed": true
   },
   "outputs": [],
   "source": []
  }
 ],
 "metadata": {
  "kernelspec": {
   "display_name": "Python 3",
   "language": "python",
   "name": "python3"
  },
  "language_info": {
   "codemirror_mode": {
    "name": "ipython",
    "version": 3
   },
   "file_extension": ".py",
   "mimetype": "text/x-python",
   "name": "python",
   "nbconvert_exporter": "python",
   "pygments_lexer": "ipython3",
   "version": "3.6.2"
  }
 },
 "nbformat": 4,
 "nbformat_minor": 2
}
