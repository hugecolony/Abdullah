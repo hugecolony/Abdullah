{
 "cells": [
  {
   "cell_type": "code",
   "execution_count": 120,
   "metadata": {},
   "outputs": [
    {
     "data": {
      "text/plain": [
       "{'p18-1001': {'calculus': 38.5, 'english': 61.5},\n",
       " 'p18-1002': {'english': 38.5, 'programming fundaments': 38.5},\n",
       " 'p18-1003': {'calculus': 36.9, 'programming fundamentals': 38.5}}"
      ]
     },
     "execution_count": 120,
     "metadata": {},
     "output_type": "execute_result"
    }
   ],
   "source": [
    "def get_student_marks(l):\n",
    "    new_dic={}\n",
    "    for ind,ele in enumerate(l):\n",
    "        new_dic[l[ind][\"roll_no\"]]={}\n",
    "    for ind,ele in enumerate(l):\n",
    "        for dat in l[ind][\"marks\"].keys():\n",
    "            new_dic[l[ind][\"roll_no\"]].update({dat:sum(l[ind][\"marks\"][dat])})\n",
    "    return(new_dic)   \n",
    "(get_student_marks(x))\n",
    "            "
   ]
  },
  {
   "cell_type": "code",
   "execution_count": 117,
   "metadata": {},
   "outputs": [],
   "source": [
    "x=[\n",
    "{'roll_no': 'p18-1001', 'marks': {\n",
    "'english': (1.4, 2.5, 15, 9.6, 33),\n",
    "'calculus': (2.4, 1.5, 12, 1.6, 21),\n",
    "}, 'attendance': 88.4\n",
    "},\n",
    "{'roll_no': 'p18-1002', 'marks': {\n",
    "'english': (2.4, 1.5, 12, 1.6, 21),\n",
    "'programming fundaments': (2.4, 1.5, 12, 1.6, 21),\n",
    "}, 'attendance': 79.4\n",
    "},\n",
    "{'roll_no': 'p18-1003', 'marks': {\n",
    "'calculus': (2.4, 1.5, 12, 21),\n",
    "'programming fundamentals': (2.4, 1.5, 12, 1.6, 21),\n",
    "}, 'attendance': 79.4\n",
    "},\n",
    "]       "
   ]
  },
  {
   "cell_type": "code",
   "execution_count": 118,
   "metadata": {},
   "outputs": [
    {
     "data": {
      "text/plain": [
       "{'p18-1001': {'calculus': 38.5, 'english': 61.5},\n",
       " 'p18-1002': {'english': 38.5, 'programming fundaments': 38.5},\n",
       " 'p18-1003': {'calculus': 36.9, 'programming fundamentals': 38.5}}"
      ]
     },
     "execution_count": 118,
     "metadata": {},
     "output_type": "execute_result"
    }
   ],
   "source": [
    "(get_student_marks(x))"
   ]
  },
  {
   "cell_type": "code",
   "execution_count": 122,
   "metadata": {},
   "outputs": [
    {
     "data": {
      "text/plain": [
       "{'p18-1001': {'calculus': 38.5, 'english': 61.5},\n",
       " 'p18-1002': {'english': 38.5, 'programming fundaments': 38.5},\n",
       " 'p18-1003': {'calculus': 36.9, 'programming fundamentals': 38.5}}"
      ]
     },
     "execution_count": 122,
     "metadata": {},
     "output_type": "execute_result"
    }
   ],
   "source": [
    "def get_student_marks(l):\n",
    "    new_dic={}\n",
    "    for ind,ele in enumerate(l):\n",
    "        new_dic[l[ind][\"roll_no\"]]={}\n",
    "    for ind,ele in enumerate(l):\n",
    "        for dat in l[ind][\"marks\"].keys():\n",
    "            new_dic[l[ind][\"roll_no\"]].update({dat:sum(l[ind][\"marks\"][dat])})\n",
    "    return(new_dic)   \n",
    "(get_student_marks(x))\n",
    "            "
   ]
  },
  {
   "cell_type": "code",
   "execution_count": null,
   "metadata": {
    "collapsed": true
   },
   "outputs": [],
   "source": []
  },
  {
   "cell_type": "code",
   "execution_count": null,
   "metadata": {
    "collapsed": true
   },
   "outputs": [],
   "source": []
  }
 ],
 "metadata": {
  "kernelspec": {
   "display_name": "Python 3",
   "language": "python",
   "name": "python3"
  },
  "language_info": {
   "codemirror_mode": {
    "name": "ipython",
    "version": 3
   },
   "file_extension": ".py",
   "mimetype": "text/x-python",
   "name": "python",
   "nbconvert_exporter": "python",
   "pygments_lexer": "ipython3",
   "version": "3.6.2"
  }
 },
 "nbformat": 4,
 "nbformat_minor": 2
}
