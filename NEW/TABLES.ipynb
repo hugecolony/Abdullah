{
 "cells": [
  {
   "cell_type": "code",
   "execution_count": 2,
   "metadata": {},
   "outputs": [
    {
     "name": "stdout",
     "output_type": "stream",
     "text": [
      "2\n",
      "3\n",
      "5\n",
      "7\n",
      "11\n"
     ]
    }
   ],
   "source": [
    "# FOR PRIME NUMBERS\n",
    "n = 11\n",
    "for i in range (2,n+1):\n",
    "        for j in range(2,i):\n",
    "            if i%j ==0:\n",
    "                break\n",
    "        else:\n",
    "            print(i)"
   ]
  },
  {
   "cell_type": "code",
   "execution_count": 2,
   "metadata": {},
   "outputs": [
    {
     "name": "stdout",
     "output_type": "stream",
     "text": [
      "table of : 1\n",
      "1 X 1 = 1\n",
      "2 X 1 = 2\n",
      "3 X 1 = 3\n",
      "4 X 1 = 4\n",
      "5 X 1 = 5\n",
      "6 X 1 = 6\n",
      "7 X 1 = 7\n",
      "8 X 1 = 8\n",
      "9 X 1 = 9\n",
      "10 X 1 = 10\n",
      "table of : 2\n",
      "1 X 2 = 2\n",
      "2 X 2 = 4\n",
      "3 X 2 = 6\n",
      "4 X 2 = 8\n",
      "5 X 2 = 10\n",
      "6 X 2 = 12\n",
      "7 X 2 = 14\n",
      "8 X 2 = 16\n",
      "9 X 2 = 18\n",
      "10 X 2 = 20\n",
      "table of : 3\n",
      "1 X 3 = 3\n",
      "2 X 3 = 6\n",
      "3 X 3 = 9\n",
      "4 X 3 = 12\n",
      "5 X 3 = 15\n",
      "6 X 3 = 18\n",
      "7 X 3 = 21\n",
      "8 X 3 = 24\n",
      "9 X 3 = 27\n",
      "10 X 3 = 30\n",
      "table of : 4\n",
      "1 X 4 = 4\n",
      "2 X 4 = 8\n",
      "3 X 4 = 12\n",
      "4 X 4 = 16\n",
      "5 X 4 = 20\n",
      "6 X 4 = 24\n",
      "7 X 4 = 28\n",
      "8 X 4 = 32\n",
      "9 X 4 = 36\n",
      "10 X 4 = 40\n"
     ]
    }
   ],
   "source": [
    "# tables\n",
    "for i in range(1,5):\n",
    "    print(\"table of :\",i)\n",
    "    for j in range(1,11):\n",
    "        print(j ,\"X\",i,\"=\",j*i)"
   ]
  },
  {
   "cell_type": "code",
   "execution_count": 45,
   "metadata": {},
   "outputs": [
    {
     "name": "stdout",
     "output_type": "stream",
     "text": [
      "2\n",
      "4\n",
      "6\n",
      "8\n",
      "10\n",
      "12\n",
      "14\n",
      "16\n"
     ]
    }
   ],
   "source": [
    "# FOR EVEN NUMBERS\n",
    "for i in range (1,17):\n",
    "    if   i%2 == 0:\n",
    "        print(i)\n",
    "    "
   ]
  },
  {
   "cell_type": "code",
   "execution_count": 46,
   "metadata": {},
   "outputs": [
    {
     "name": "stdout",
     "output_type": "stream",
     "text": [
      "2\n",
      "4\n",
      "6\n",
      "8\n",
      "10\n",
      "12\n",
      "14\n",
      "16\n"
     ]
    }
   ],
   "source": [
    "# FOR EVEN NUMBERS\n",
    "# for not condition\n",
    "for i in range (1,17):\n",
    "    if  i%2 == 0:\n",
    "        print(i)\n",
    "    "
   ]
  },
  {
   "cell_type": "code",
   "execution_count": 25,
   "metadata": {},
   "outputs": [
    {
     "name": "stdout",
     "output_type": "stream",
     "text": [
      "1\n",
      "3\n",
      "5\n",
      "7\n",
      "9\n",
      "11\n",
      "13\n",
      "15\n",
      "17\n",
      "19\n",
      "21\n"
     ]
    }
   ],
   "source": [
    "# FOR ODD NUMBERS\n",
    "# for skipping 2\n",
    "\n",
    "for i in range(1,23):\n",
    "    if i%2==0: # % is remainder and == for comparison\n",
    "        continue # skip\n",
    "    print(i)\n",
    " # question why not 2 and 4          "
   ]
  },
  {
   "cell_type": "code",
   "execution_count": 43,
   "metadata": {},
   "outputs": [
    {
     "name": "stdout",
     "output_type": "stream",
     "text": [
      "2\n",
      "3\n",
      "5\n",
      "7\n",
      "11\n",
      "13\n"
     ]
    }
   ],
   "source": [
    "n = 16\n",
    "for i in range (2,n+1):\n",
    "        for j in range(2,i):\n",
    "            if i%j ==0:\n",
    "                break\n",
    "        else:\n",
    "            print(i)"
   ]
  },
  {
   "cell_type": "code",
   "execution_count": null,
   "metadata": {
    "collapsed": true
   },
   "outputs": [],
   "source": []
  }
 ],
 "metadata": {
  "kernelspec": {
   "display_name": "Python 3",
   "language": "python",
   "name": "python3"
  },
  "language_info": {
   "codemirror_mode": {
    "name": "ipython",
    "version": 3
   },
   "file_extension": ".py",
   "mimetype": "text/x-python",
   "name": "python",
   "nbconvert_exporter": "python",
   "pygments_lexer": "ipython3",
   "version": "3.6.2"
  }
 },
 "nbformat": 4,
 "nbformat_minor": 2
}
