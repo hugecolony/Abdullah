{
 "cells": [
  {
   "cell_type": "code",
   "execution_count": 7,
   "metadata": {
    "collapsed": true
   },
   "outputs": [],
   "source": [
    "def calculate_force(m,a):\n",
    "    if type(m)!=float or type(a)!=float:\n",
    "        return None\n",
    "    f= m*a\n",
    "    return f\n",
    "        "
   ]
  },
  {
   "cell_type": "code",
   "execution_count": 8,
   "metadata": {
    "collapsed": true
   },
   "outputs": [],
   "source": [
    "def  find_and_print_energy(mass):\n",
    "    if type(mass)!=float:\n",
    "        return None\n",
    "    c = 299792458\n",
    "    C =c**2\n",
    "    energy = mass*C\n",
    "    print(\"The energy equivalent of mass\",(mass),\"is:\",(energy))\n",
    "    return energy  "
   ]
  },
  {
   "cell_type": "code",
   "execution_count": 10,
   "metadata": {},
   "outputs": [
    {
     "name": "stdout",
     "output_type": "stream",
     "text": [
      "0.2\n",
      "The energy equivalent of mass 0.0009 is: 80887966086313.58\n",
      "80887966086313.58\n"
     ]
    }
   ],
   "source": [
    "if __name__ == '__main__': \n",
    "    print(calculate_force(1.0, 0.2))\n",
    "    print(find_and_print_energy(0.0009))  \n",
    "\n"
   ]
  },
  {
   "cell_type": "code",
   "execution_count": null,
   "metadata": {
    "collapsed": true
   },
   "outputs": [],
   "source": []
  }
 ],
 "metadata": {
  "kernelspec": {
   "display_name": "Python 3",
   "language": "python",
   "name": "python3"
  },
  "language_info": {
   "codemirror_mode": {
    "name": "ipython",
    "version": 3
   },
   "file_extension": ".py",
   "mimetype": "text/x-python",
   "name": "python",
   "nbconvert_exporter": "python",
   "pygments_lexer": "ipython3",
   "version": "3.6.2"
  }
 },
 "nbformat": 4,
 "nbformat_minor": 2
}
