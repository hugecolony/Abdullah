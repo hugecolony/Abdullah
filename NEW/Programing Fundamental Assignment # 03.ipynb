{
 "cells": [
  {
   "cell_type": "code",
   "execution_count": 15,
   "metadata": {},
   "outputs": [
    {
     "name": "stdout",
     "output_type": "stream",
     "text": [
      "Input the name of Month : Feburary\n",
      "List of months: January, February, March, April, May, June, July, August , September, October, November, December\n",
      "No.of days : 28/29 days\n"
     ]
    }
   ],
   "source": [
    "y =  (\"List of months: January, February, March, April, May, June, July, August , September, October, November, December\")\n",
    "x = input(\"Input the name of Month : \")\n",
    "#print(y)\n",
    "def f(x):\n",
    "    if x == \"Feburary\":\n",
    "        print(\"No.of days :\",\"28/29 days\")\n",
    "    elif x == \"January\" or x == \"March\" or x == \"May\" or x == \"July\" or x == \"August\" or x == \"October\" or x == \"December\":\n",
    "        print(\"No.of days :\",\"31\")\n",
    "    elif x == \"April\" or x == \"June\" or  x == \"November\" or x == \"September\":\n",
    "        print(\"No.of days :\",\"30\")\n",
    "    else:\n",
    "        print(\"Something Wrong\")\n",
    "print(y)\n",
    "f(x)"
   ]
  },
  {
   "cell_type": "code",
   "execution_count": 2,
   "metadata": {},
   "outputs": [
    {
     "name": "stdout",
     "output_type": "stream",
     "text": [
      "Input  a str :9978\n",
      "The string is not an integer.\n"
     ]
    }
   ],
   "source": [
    "x = (input(\"Input  a str :\"))\n",
    "def f(x):\n",
    "    if type(x)==int:\n",
    "        print(\"The string is an integer.\")\n",
    "    elif type(x)==str:\n",
    "        print(\"The string is not an integer.\")\n",
    "    else:\n",
    "        return None\n",
    "f(x)"
   ]
  },
  {
   "cell_type": "code",
   "execution_count": 27,
   "metadata": {},
   "outputs": [
    {
     "name": "stdout",
     "output_type": "stream",
     "text": [
      "Hello world\n",
      "Lower case  = 9 Upper case  = 1\n"
     ]
    }
   ],
   "source": [
    "def upperlower(string): \n",
    "    upper = 0\n",
    "    lower = 0  \n",
    "    for i in range(len(string)): \n",
    "          \n",
    "        # For lower letters \n",
    "        if (ord(string[i]) >= 97 and\n",
    "            ord(string[i]) <= 122): \n",
    "            lower += 1\n",
    "  \n",
    "        # For upper letters \n",
    "        elif (ord(string[i]) >= 65 and\n",
    "              ord(string[i]) <= 90): \n",
    "            upper += 1\n",
    "  \n",
    "    print('Lower case  = %s' %lower,'Upper case  = %s' %upper) \n",
    "  \n",
    "# Driver Code \n",
    "string = 'Hello world'\n",
    "print(string)\n",
    "upperlower(string) "
   ]
  },
  {
   "cell_type": "code",
   "execution_count": 16,
   "metadata": {},
   "outputs": [
    {
     "name": "stdout",
     "output_type": "stream",
     "text": [
      "Input birthday: 31\n",
      "Input month of birth (e.g. march, july etc): march\n",
      "Your Astrological sign is : aries\n"
     ]
    }
   ],
   "source": [
    "day = int(input(\"Input birthday: \"))\n",
    "month = input(\"Input month of birth (e.g. march, july etc): \")\n",
    "if month == 'december':\n",
    "    astro_sign = 'Sagittarius' if (day < 22) else 'capricorn'\n",
    "elif month == 'january':\n",
    "    astro_sign = 'Capricorn' if (day < 20) else 'aquarius'\n",
    "elif month == 'february':\n",
    "    astro_sign = 'Aquarius' if (day < 19) else 'pisces'\n",
    "elif month == 'march':\n",
    "    astro_sign = 'Pisces' if (day < 21) else 'aries'\n",
    "elif month == 'april':\n",
    "    astro_sign = 'Aries' if (day < 20) else 'taurus'\n",
    "elif month == 'may':\n",
    "    astro_sign = 'Taurus' if (day < 21) else 'gemini'\n",
    "elif month == 'june':\n",
    "    astro_sign = 'Gemini' if (day < 21) else 'cancer'\n",
    "elif month == 'july':\n",
    "    astro_sign = 'Cancer' if (day < 23) else 'leo'\n",
    "elif month == 'august':\n",
    "    astro_sign = 'Leo' if (day < 23) else 'virgo'\n",
    "elif month == 'september':\n",
    "    astro_sign = 'Virgo' if (day < 23) else 'libra'\n",
    "elif month == 'october':\n",
    "    astro_sign = 'Libra' if (day < 23) else 'scorpio'\n",
    "elif month == 'november':\n",
    "    astro_sign = 'scorpio' if (day < 22) else 'sagittarius'\n",
    "print(\"Your Astrological sign is :\",astro_sign)"
   ]
  },
  {
   "cell_type": "code",
   "execution_count": 20,
   "metadata": {},
   "outputs": [
    {
     "name": "stdout",
     "output_type": "stream",
     "text": [
      "The x value: 23\n",
      "The y value: 12312\n",
      "The z value: 312\n",
      "Two Solutions. Discriminant value is: -283162.5939072403\n"
     ]
    }
   ],
   "source": [
    "def discriminant():\n",
    "    x_value = float(input('The x value: '))\n",
    "    y_value = float(input('The y value: '))\n",
    "    z_value = float(input('The z value: '))\n",
    "    discriminant = (y_value**2) - (4*x_value*z_value)\n",
    "    #x = -y_value/2*x_value +- pow(pow(y_value,2)-(4*x_value*z_value),0.5)/2*x_value\n",
    "    t = -y_value/2*x_value +- pow(discriminant,0.5)/2*x_value\n",
    "    if discriminant > 0:\n",
    "        print('Two Solutions. Discriminant value is:', t)\n",
    "    elif discriminant == 0:\n",
    "        print('One Solution. Discriminant value is:', t)\n",
    "    elif discriminant < 0:\n",
    "        print(\"roots are complex\")\n",
    "\n",
    "#print(x)\n",
    "discriminant()\n",
    "\n"
   ]
  },
  {
   "cell_type": "code",
   "execution_count": 2,
   "metadata": {},
   "outputs": [
    {
     "name": "stdout",
     "output_type": "stream",
     "text": [
      "magnitude :5.2\n",
      "Moderate\n"
     ]
    }
   ],
   "source": [
    "x = float(input(\"magnitude :\" ))\n",
    "def f(x):\n",
    "    if x<2.0:\n",
    "        print(\"Micro\")\n",
    "    elif x>=2.0 and x<3.0:\n",
    "        print(\"Very Minor\")\n",
    "    elif x>=3.0 and x<4.0:\n",
    "        print(\"Minor\")\n",
    "    elif x>=4.0 and x<5.0:\n",
    "        print(\"Light\")\n",
    "    elif x>=5.0 and x<6.0:\n",
    "        print(\"Moderate\")\n",
    "    elif x>=6.0 and x<7.0:\n",
    "        print(\"Strong\")\n",
    "    elif x>=7.0 and x<8.0:\n",
    "        print(\"Major\")\n",
    "    elif x>=8.0 and x<10.0:\n",
    "        print(\"Great\")\n",
    "    else:\n",
    "        print(\"Meteoric\")\n",
    "f(x)"
   ]
  },
  {
   "cell_type": "code",
   "execution_count": 3,
   "metadata": {},
   "outputs": [
    {
     "name": "stdout",
     "output_type": "stream",
     "text": [
      "Please enter a number: 55\n",
      "Please enter a number: 2\n",
      "Please enter a number: 123\n",
      "Please enter a number: 11\n",
      "Please enter a number: 11\n",
      "Please enter a number: 22\n",
      "Please enter a number: 2\n",
      "Please enter a number: 3\n",
      "Please enter a number: 3\n",
      "Please enter a number: 3\n",
      "Please enter a number: 3\n"
     ]
    }
   ],
   "source": [
    "our_list = [] \n",
    "for i in range(0,11): \n",
    "    number = int(input('Please enter a number: ')) \n",
    "    our_list.append(number)"
   ]
  },
  {
   "cell_type": "code",
   "execution_count": 88,
   "metadata": {},
   "outputs": [
    {
     "name": "stdout",
     "output_type": "stream",
     "text": [
      "Please enter a number: 4\n",
      "Please enter a number: 2\n",
      "Please enter a number: 5\n",
      "Please enter a number: 2\n",
      "Please enter a number: 35\n",
      "Please enter a number: 3\n",
      "Please enter a number: 4\n",
      "Please enter a number: 5\n",
      "Please enter a number: 6\n",
      "Please enter a number: 7\n",
      "Mean :  7.3\n"
     ]
    }
   ],
   "source": [
    "#MEAN\n",
    "l = []\n",
    "for i in range(0,10):\n",
    "        y = int(input('Please enter a number: '))\n",
    "        l.append(y)\n",
    "        z = sum(l)\n",
    "        Mean = z/10\n",
    "print(\"Mean : \",Mean)        "
   ]
  },
  {
   "cell_type": "markdown",
   "metadata": {},
   "source": []
  },
  {
   "cell_type": "markdown",
   "metadata": {},
   "source": [
    "#MEDIAN\n"
   ]
  },
  {
   "cell_type": "code",
   "execution_count": 3,
   "metadata": {},
   "outputs": [
    {
     "name": "stdout",
     "output_type": "stream",
     "text": [
      "Please enter a number: 312\n",
      "Please enter a number: 1\n",
      "Please enter a number: 23\n",
      "Please enter a number: 123\n",
      "Please enter a number: 1\n",
      "Please enter a number: 2312\n",
      "Please enter a number: 312\n",
      "Please enter a number: 3123123\n",
      "Please enter a number: 123123\n",
      "Please enter a number: 123\n",
      "Median : 217.5\n"
     ]
    }
   ],
   "source": [
    "#MEdian\n",
    "l = []\n",
    "for i in range(0,10):\n",
    "        y = int(input('Please enter a number: '))\n",
    "        l.append(y)\n",
    "        l.sort(reverse=False)\n",
    "q = l[4]+l[5]\n",
    "Median = q/2        \n",
    "print(\"Median :\",Median)        "
   ]
  },
  {
   "cell_type": "code",
   "execution_count": 38,
   "metadata": {},
   "outputs": [
    {
     "name": "stdout",
     "output_type": "stream",
     "text": [
      "Please enter a number: 12312\n",
      "Please enter a number: 12313\n",
      "Please enter a number: 12312\n",
      "Please enter a number: 12312\n",
      "Please enter a number: 12312\n",
      "Please enter a number: 12312\n",
      "Please enter a number: 1231\n",
      "Please enter a number: 123123\n",
      "Please enter a number: 12312\n",
      "Please enter a number: 123\n",
      "MODE : 12312\n"
     ]
    }
   ],
   "source": [
    "h = []\n",
    "def f(x):\n",
    "    import statistics\n",
    "    for i in range(0,10):\n",
    "        y = int(input('Please enter a number: '))\n",
    "        h.append(y)\n",
    "    print(\"MODE :\",statistics.mode(h))\n",
    "f(y)\n",
    "\n",
    "        \n"
   ]
  },
  {
   "cell_type": "markdown",
   "metadata": {},
   "source": [
    "# STANDERD DEVIATION\n"
   ]
  },
  {
   "cell_type": "code",
   "execution_count": 5,
   "metadata": {},
   "outputs": [
    {
     "name": "stdout",
     "output_type": "stream",
     "text": [
      "Please enter a number: 123\n",
      "Please enter a number: 1231\n",
      "Please enter a number: 31\n",
      "Please enter a number: 3\n",
      "Please enter a number: 12\n",
      "Please enter a number: 312\n",
      "Please enter a number: 32\n",
      "Please enter a number: 13\n",
      "Please enter a number: 12\n",
      "Please enter a number: 31\n",
      "standerd deviation : 381.1161969210382\n"
     ]
    }
   ],
   "source": [
    "u = []\n",
    "def f(x):\n",
    "    import statistics\n",
    "    for i in range(0,10):\n",
    "        y = int(input('Please enter a number: '))\n",
    "        u.append(y)\n",
    "    print(\"standerd deviation :\",statistics.stdev(u))\n",
    "f(u)\n"
   ]
  },
  {
   "cell_type": "markdown",
   "metadata": {},
   "source": [
    "## variance\n"
   ]
  },
  {
   "cell_type": "code",
   "execution_count": 89,
   "metadata": {},
   "outputs": [
    {
     "name": "stdout",
     "output_type": "stream",
     "text": [
      "Please enter a number: 7\n",
      "Please enter a number: 5\n",
      "Please enter a number: 5\n",
      "Please enter a number: 8\n",
      "Please enter a number: 5\n",
      "Please enter a number: 9\n",
      "Please enter a number: 5\n",
      "Please enter a number: 9\n",
      "Please enter a number: 3\n",
      "Please enter a number: 4\n",
      "Variance : 4.444444444444445\n"
     ]
    }
   ],
   "source": [
    "o = []\n",
    "def f(x):\n",
    "    import statistics\n",
    "    for i in range(0,10):\n",
    "        y = int(input('Please enter a number: '))\n",
    "        o.append(y)\n",
    "    print(\"Variance :\",statistics.variance(o))\n",
    "f(o)\n",
    "\n"
   ]
  },
  {
   "cell_type": "code",
   "execution_count": null,
   "metadata": {
    "collapsed": true
   },
   "outputs": [],
   "source": [
    "r = p180013\n",
    "l = [input(\"Enter lab task marks :\")]\n",
    "q = input(\"Enter Quiz Marks :\")\n",
    "def f(r,l,q):\n",
    "    tot = sum(l) + sum(q)\n",
    "    totr = len(l)+ len(q)\n",
    "    average_mean = tot/tote\n",
    "    if average_mean <0.4:\n",
    "        print(\"GRADE F\")\n",
    "    else:\n",
    "        print(\"GOOD\")\n",
    "print(p)\n",
    "f(r,l,q)\n"
   ]
  },
  {
   "cell_type": "markdown",
   "metadata": {},
   "source": [
    "Question 8\n"
   ]
  },
  {
   "cell_type": "code",
   "execution_count": 91,
   "metadata": {},
   "outputs": [
    {
     "name": "stdout",
     "output_type": "stream",
     "text": [
      "please enter roll_no :9\n",
      "please enter lab_task1 marks:8\n",
      "please enter lab_task2 marks :9\n",
      "please enter lab_task3 marks :8\n",
      "please enter lab_task4 marks :9\n",
      "please enter lab_task5 marks :8\n",
      "Average of lab marks : 8.4\n",
      "Total lab_task marks : 42\n",
      "please enter quiz_1 marks:9\n",
      "please enter quiz_2 marks :9\n",
      "please enter quiz_3 marks :8\n",
      "please enter quiz_4 marks :6\n",
      "please enter quiz_5 marks :8\n",
      "Average of quizes : 8.0\n",
      "Total quiz_task marks : 40\n",
      "Average_mean : 41.0\n",
      "40 % of Average mean : 16.4\n",
      "please enter student’s examination marks:88\n",
      "Final Grade : A\n"
     ]
    }
   ],
   "source": [
    "#lab_tak=[]\n",
    "def student_marks():\n",
    "    #lab_tak=[]\n",
    "    exam_percentage = 10\n",
    "    roll_no = input(\"please enter roll_no :\")\n",
    "# for lab task\n",
    "    lab_task1 = int(input(\"please enter lab_task1 marks:\"))\n",
    "    lab_task2= int(input(\"please enter lab_task2 marks :\"))\n",
    "    lab_task3= int(input(\"please enter lab_task3 marks :\"))\n",
    "    lab_task4= int(input(\"please enter lab_task4 marks :\"))\n",
    "    lab_task5= int(input(\"please enter lab_task5 marks :\"))\n",
    "    lab_task =(lab_task1 +lab_task2+lab_task3+lab_task4+lab_task5)\n",
    "  #  lab_tak.append(lab_task)\n",
    "    average = lab_task/5\n",
    "    print(\"Average of lab marks :\",average)\n",
    "    print(\"Total lab_task marks :\",lab_task)\n",
    "# quiz marks\n",
    "    exam_percentages = 40\n",
    "    quiz_1 = int(input(\"please enter quiz_1 marks:\"))\n",
    "    quiz_2= int(input(\"please enter quiz_2 marks :\"))\n",
    "    quiz_3= int(input(\"please enter quiz_3 marks :\"))\n",
    "    quiz_4= int(input(\"please enter quiz_4 marks :\"))\n",
    "    quiz_5= int(input(\"please enter quiz_5 marks :\"))\n",
    "    quiz_task =(quiz_1 +quiz_2+quiz_3+quiz_4+quiz_5)\n",
    "#    lab_tak.append(lab_tak)\n",
    "    averaged = quiz_task/5\n",
    "    print(\"Average of quizes :\",averaged)\n",
    "    print(\"Total quiz_task marks :\",quiz_task)\n",
    "    average_mean = (lab_task+quiz_task)/2\n",
    "    print(\"Average_mean :\",average_mean)\n",
    "    Forty_percent_of_Average_mean = average_mean*40/100\n",
    "    print(\"40 % of Average mean :\",Forty_percent_of_Average_mean )\n",
    "    if average_mean<Forty_percent_of_Average_mean:\n",
    "        return(\"GRADE F\")\n",
    "    else:\n",
    "        student_examination_mark = int(input(\"please enter student’s examination marks:\"))\n",
    "        Average = average_mean\n",
    "        final_marks = (student_examination_mark)*50/100\n",
    "        marks = Average+final_marks\n",
    "        if marks>=80 and marks<=100:\n",
    "            print(\"Final Grade :\",\"A\")\n",
    "        elif marks>=70 and marks<80:\n",
    "            print(\"Final Grade :\",\"B\")\n",
    "        elif marks>=60 and marks<70:\n",
    "            print(\"Final Grade :\",\"C\")\n",
    "        elif marks>=50 and marks<60:\n",
    "            print(\"Final Grade :\",\"D\")\n",
    "        else:\n",
    "             print(\"Final Grade :\",\"E\")      \n",
    "student_marks()\n"
   ]
  },
  {
   "cell_type": "markdown",
   "metadata": {
    "collapsed": true
   },
   "source": []
  },
  {
   "cell_type": "code",
   "execution_count": 93,
   "metadata": {},
   "outputs": [
    {
     "name": "stdout",
     "output_type": "stream",
     "text": [
      "Upper case:  1\n",
      "Lower case:  9\n",
      "Hello world\n"
     ]
    }
   ],
   "source": [
    "def countUpperAndLowerCase(sentence):\n",
    "    upper = 0\n",
    "    lower = 0\n",
    "    for i in sentence:\n",
    "         if i >='A' and i <= 'Z':\n",
    "                upper += 1\n",
    "         elif i >= 'a' and i <= 'z':\n",
    "            lower += 1\n",
    "    print(\"Upper case: \" ,(upper))\n",
    "    print(\"Lower case: \" , (lower))\n",
    "    print(sentence)\n",
    "\n",
    "countUpperAndLowerCase(\"Hello world\")"
   ]
  },
  {
   "cell_type": "code",
   "execution_count": 95,
   "metadata": {},
   "outputs": [
    {
     "name": "stdout",
     "output_type": "stream",
     "text": [
      "Hello World\n",
      "Upper case:  1\n",
      "Lower case:  9\n"
     ]
    }
   ],
   "source": [
    "def countUpperAndLowerCase(sentence):\n",
    "   upper = 0\n",
    "   lower = 0\n",
    "   for i in sentence:\n",
    "      if i >='A' and i <= 'Z':\n",
    "         upper += 1\n",
    "      elif i >= 'a' and i <= 'z':\n",
    "         lower += 1\n",
    "   print(\"Upper case: \" , (upper))\n",
    "   print(\"Lower case: \" , (lower))\n",
    "sentence = \"Hello World\"\n",
    "print(sentence)\n",
    "countUpperAndLowerCase(\"Hello world\")"
   ]
  },
  {
   "cell_type": "code",
   "execution_count": 75,
   "metadata": {},
   "outputs": [
    {
     "name": "stdout",
     "output_type": "stream",
     "text": [
      "Input a string : python\n",
      "The String is not integer\n"
     ]
    }
   ],
   "source": [
    "def function(st) : \n",
    "    for i in range(len(st)) : \n",
    "        if st[i].isdigit() != True : \n",
    "            return False\n",
    "        return True\n",
    "\n",
    "str = \"python\"\n",
    "if function(str) : \n",
    "    print(\"The String is integer\") \n",
    "    print(\"Input a string :\",str)\n",
    "else:\n",
    "    print(\"Input a string :\",str)\n",
    "    print(\"The String is not integer\") \n",
    "  \n"
   ]
  },
  {
   "cell_type": "code",
   "execution_count": 6,
   "metadata": {},
   "outputs": [
    {
     "name": "stdout",
     "output_type": "stream",
     "text": [
      "Input a string : python\n",
      "The String is not integer\n"
     ]
    },
    {
     "data": {
      "text/plain": [
       "False"
      ]
     },
     "execution_count": 6,
     "metadata": {},
     "output_type": "execute_result"
    }
   ],
   "source": [
    "def function(st) : \n",
    "    for i in range(len(st)) : \n",
    "        if st[i].isdigit() != True:\n",
    "            print(\"Input a string :\",strs)\n",
    "            print(\"The String is not integer\")\n",
    "            return False\n",
    "        else:\n",
    "            print(\"Input a string :\",strs)\n",
    "            print(\"The String is integer\") \n",
    "            return True\n",
    "\n",
    "strs = \"python\" \n",
    "function(strs)  "
   ]
  },
  {
   "cell_type": "code",
   "execution_count": 7,
   "metadata": {},
   "outputs": [
    {
     "name": "stdout",
     "output_type": "stream",
     "text": [
      "Hello World\n",
      "Upper case:  1\n",
      "Lower case:  9\n"
     ]
    }
   ],
   "source": [
    "def func(sentence):\n",
    "    upper = 0\n",
    "    lower = 0\n",
    "    for i in sentence:\n",
    "        if i >='A' and i <= 'Z':\n",
    "            upper += 1\n",
    "        elif i >= 'a' and i <= 'z':\n",
    "             lower += 1\n",
    "    print(\"Upper case: \" , (upper))\n",
    "    print(\"Lower case: \" , (lower))\n",
    "sentence = \"Hello World\"\n",
    "print(sentence)\n",
    "func(\"Hello world\")"
   ]
  },
  {
   "cell_type": "code",
   "execution_count": 87,
   "metadata": {},
   "outputs": [
    {
     "name": "stdout",
     "output_type": "stream",
     "text": [
      "Input birthday: 15\n",
      "Input month of birth (e.g. march, july etc): may\n",
      "Your Astrological sign is : Taurus\n"
     ]
    }
   ],
   "source": [
    "day = int(input(\"Input birthday: \"))\n",
    "month = input(\"Input month of birth (e.g. march, july etc): \")\n",
    "if month == 'december':\n",
    "    if (day < 22):\n",
    "        astro_sign = 'Sagittarius'  \n",
    "    else:\n",
    "        astro_sign =('capricorn')\n",
    "elif month == 'january':\n",
    "    if (day < 20):\n",
    "        astro_sign = 'Capricorn'\n",
    "    else:\n",
    "        astro_sign ='aquarius'\n",
    "elif month == 'february':\n",
    "    if (day < 19):\n",
    "        astro_sign = 'Aquarius'\n",
    "    else:\n",
    "        astro_sign ='pisces'\n",
    "elif month == 'march':\n",
    "    if (day < 21):\n",
    "        astro_sign = 'Pisces' \n",
    "    else:\n",
    "        astro_sign ='aries'\n",
    "elif month == 'april':\n",
    "    if (day <= 20):\n",
    "        astro_sign = 'Aries'\n",
    "    else:\n",
    "        astro_sign ='taurus'\n",
    "elif month == 'may':\n",
    "    if (day < 21):\n",
    "        astro_sign = 'Taurus'  \n",
    "    else:\n",
    "        astro_sign ='gemini'\n",
    "elif month == 'june':\n",
    "     if (day < 21):\n",
    "        astro_sign = 'Gemini'\n",
    "     else:\n",
    "        astro_sign ='cancer'\n",
    "elif month == 'july':\n",
    "     if (day < 23):\n",
    "        astro_sign = 'Cancer' \n",
    "     else:\n",
    "        astro_sign ='leo'\n",
    "elif month == 'august':\n",
    "     if (day < 23):\n",
    "        astro_sign = 'Leo' \n",
    "     else:\n",
    "        astro_sign ='virgo'\n",
    "elif month == 'september':\n",
    "    if (day < 23):\n",
    "        astro_sign = 'Virgo' \n",
    "    else:\n",
    "        astro_sign ='libra'\n",
    "elif month == 'october':\n",
    "     if (day < 23):\n",
    "        astro_sign = 'Libra'\n",
    "     else:\n",
    "        astro_sign ='scorpio'\n",
    "elif month == 'november':\n",
    "    if (day < 22):\n",
    "        astro_sign = 'scorpio'  \n",
    "    else:\n",
    "        astro_sign ='sagittarius'\n",
    "print(\"Your Astrological sign is :\",astro_sign)"
   ]
  },
  {
   "cell_type": "code",
   "execution_count": null,
   "metadata": {
    "collapsed": true
   },
   "outputs": [],
   "source": []
  },
  {
   "cell_type": "code",
   "execution_count": null,
   "metadata": {
    "collapsed": true
   },
   "outputs": [],
   "source": []
  }
 ],
 "metadata": {
  "kernelspec": {
   "display_name": "Python 3",
   "language": "python",
   "name": "python3"
  },
  "language_info": {
   "codemirror_mode": {
    "name": "ipython",
    "version": 3
   },
   "file_extension": ".py",
   "mimetype": "text/x-python",
   "name": "python",
   "nbconvert_exporter": "python",
   "pygments_lexer": "ipython3",
   "version": "3.6.2"
  }
 },
 "nbformat": 4,
 "nbformat_minor": 2
}
