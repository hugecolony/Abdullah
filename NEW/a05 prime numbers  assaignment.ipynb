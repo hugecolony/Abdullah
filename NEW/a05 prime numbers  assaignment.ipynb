{
 "cells": [
  {
   "cell_type": "code",
   "execution_count": 1,
   "metadata": {
    "collapsed": true
   },
   "outputs": [],
   "source": [
    "def is_prime(x):\n",
    "    y=x-int(x)\n",
    "    if y!=0:\n",
    "        return False\n",
    "    else:\n",
    "        x=int(x)\n",
    "    for i in range(x,x+1):\n",
    "        if i > 1:\n",
    "            for j in range(2,i):\n",
    "                if (i%j)==0:\n",
    "                    return False\n",
    "            else:\n",
    "                return True"
   ]
  },
  {
   "cell_type": "code",
   "execution_count": 2,
   "metadata": {
    "collapsed": true
   },
   "outputs": [],
   "source": [
    "def output_factors(x):\n",
    "\tfor i in range(1,x+1):\n",
    "\t\tfor j in range(1,x+1):   \n",
    "\t\t\tif  i*j != x:\n",
    "\t\t\t\tcontinue\n",
    "\t\t\telse:\n",
    "\t\t\t\tprint(i)"
   ]
  },
  {
   "cell_type": "code",
   "execution_count": 3,
   "metadata": {
    "collapsed": true
   },
   "outputs": [],
   "source": [
    "def get_largest_prime(n):\n",
    "\tif n==0:\n",
    "\t\treturn(None)\n",
    "\telse:\n",
    "\t\ty=n-int(n)\n",
    "\t\ty=int(n)\n",
    "\t\tfor i in range(2,y+1):\n",
    "\t\t\tfor j in range (2,i):\n",
    "\t\t\t\tif i%j==0:\n",
    "\t\t\t\t\tbreak\n",
    "\t\t\telse:    \n",
    "\t\t\t\tx=i  \n",
    "        #print(i)\n",
    "\treturn (x)\t"
   ]
  },
  {
   "cell_type": "code",
   "execution_count": 9,
   "metadata": {},
   "outputs": [
    {
     "data": {
      "text/plain": [
       "True"
      ]
     },
     "execution_count": 9,
     "metadata": {},
     "output_type": "execute_result"
    }
   ],
   "source": [
    "is_prime(2)"
   ]
  },
  {
   "cell_type": "code",
   "execution_count": 13,
   "metadata": {},
   "outputs": [
    {
     "data": {
      "text/plain": [
       "151"
      ]
     },
     "execution_count": 13,
     "metadata": {},
     "output_type": "execute_result"
    }
   ],
   "source": [
    "get_largest_prime(154)"
   ]
  },
  {
   "cell_type": "code",
   "execution_count": 15,
   "metadata": {},
   "outputs": [
    {
     "name": "stdout",
     "output_type": "stream",
     "text": [
      "1\n",
      "2\n",
      "3\n",
      "4\n",
      "6\n",
      "12\n"
     ]
    }
   ],
   "source": [
    "output_factors(12)"
   ]
  },
  {
   "cell_type": "code",
   "execution_count": null,
   "metadata": {
    "collapsed": true
   },
   "outputs": [],
   "source": []
  }
 ],
 "metadata": {
  "kernelspec": {
   "display_name": "Python 3",
   "language": "python",
   "name": "python3"
  },
  "language_info": {
   "codemirror_mode": {
    "name": "ipython",
    "version": 3
   },
   "file_extension": ".py",
   "mimetype": "text/x-python",
   "name": "python",
   "nbconvert_exporter": "python",
   "pygments_lexer": "ipython3",
   "version": "3.6.2"
  }
 },
 "nbformat": 4,
 "nbformat_minor": 2
}
