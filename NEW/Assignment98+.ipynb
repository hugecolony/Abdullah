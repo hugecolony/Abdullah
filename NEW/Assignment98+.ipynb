{
 "cells": [
  {
   "cell_type": "code",
   "execution_count": null,
   "metadata": {
    "collapsed": true
   },
   "outputs": [],
   "source": [
    "def split_safe(s):\n",
    "\tcheck=s.split(\"'\")\n",
    "\tans=[]\n",
    "\tfor i in range(len(check)):\n",
    "\t\tif i%2==0:\n",
    "\t\t\tfor j in check[i].split(\",\"):\n",
    "\t\t\t\tf=j.strip()\n",
    "\t\t\t\tif len(f)>0:\n",
    "\t\t\t\t\tans.append(f)\n",
    "\t\telse:\n",
    "\t\t\tf=check[i].strip()\n",
    "\t\t\tif len(f)>0:\n",
    "\t\t\t\tans.append(f)\n",
    "\treturn ans\n",
    "\t\n",
    "#### End OF MARKER\n",
    "\n",
    "\n",
    "\n",
    "### YOUR CODE FOR read_data() FUNCTION GOES HERE ###\n",
    "def read_data(path,filename):\n",
    "\timport os\n",
    "\tfull=os.path.join(path,filename)\n",
    "\trows =[]\n",
    "\twith open(full,\"r\")as f:\n",
    "\t\tfor line in f:\n",
    "\t\t\trows.append(split_safe(line.strip()))\t\t\n",
    "\treturn(rows)\n",
    "\t"
   ]
  }
 ],
 "metadata": {
  "kernelspec": {
   "display_name": "Python 3",
   "language": "python",
   "name": "python3"
  },
  "language_info": {
   "codemirror_mode": {
    "name": "ipython",
    "version": 3
   },
   "file_extension": ".py",
   "mimetype": "text/x-python",
   "name": "python",
   "nbconvert_exporter": "python",
   "pygments_lexer": "ipython3",
   "version": "3.6.2"
  }
 },
 "nbformat": 4,
 "nbformat_minor": 2
}
