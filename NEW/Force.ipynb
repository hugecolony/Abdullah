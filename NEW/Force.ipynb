{
 "cells": [
  {
   "cell_type": "code",
   "execution_count": 1,
   "metadata": {},
   "outputs": [
    {
     "name": "stdout",
     "output_type": "stream",
     "text": [
      "please enter mass\n",
      "please enter acceleration\n"
     ]
    }
   ],
   "source": [
    "apple = input(\"please enter mass\")\n",
    "mango = input(\"please enter acceleration\")\n",
    "def calculate_force(m,a):\n",
    "    if type(m)!=float or type(a)!=float:\n",
    "        return None\n",
    "    else:    \n",
    "        force = m*a\n",
    "        print(force)\n",
    "\n",
    "\n",
    "    "
   ]
  },
  {
   "cell_type": "code",
   "execution_count": 1,
   "metadata": {},
   "outputs": [
    {
     "name": "stdout",
     "output_type": "stream",
     "text": [
      "enter Mass :3\n",
      "enter Accelaration : 2\n",
      "Your Input is integer. Please input Floating value\n"
     ]
    }
   ],
   "source": [
    "x=float(input(\"enter Mass :\"))\n",
    "y=float(input(\"enter Accelaration : \"))\n",
    "\n",
    "def calculate_force(m,a):\n",
    "    force = m*a\n",
    "    return force\n",
    "\n",
    "rem1=x-int(x)\n",
    "rem2=y-int(y)\n",
    "\n",
    "if rem1==0 or rem2==0:\n",
    "    print(\"Your Input is integer. Please input Floating value\")\n",
    "else:\n",
    "    result = calculate_force(x,y)\n",
    "    print (\"Total=\",result)\n",
    "\n",
    "    "
   ]
  },
  {
   "cell_type": "code",
   "execution_count": null,
   "metadata": {
    "collapsed": true
   },
   "outputs": [],
   "source": []
  },
  {
   "cell_type": "code",
   "execution_count": null,
   "metadata": {
    "collapsed": true
   },
   "outputs": [],
   "source": []
  }
 ],
 "metadata": {
  "kernelspec": {
   "display_name": "Python 3",
   "language": "python",
   "name": "python3"
  },
  "language_info": {
   "codemirror_mode": {
    "name": "ipython",
    "version": 3
   },
   "file_extension": ".py",
   "mimetype": "text/x-python",
   "name": "python",
   "nbconvert_exporter": "python",
   "pygments_lexer": "ipython3",
   "version": "3.6.2"
  }
 },
 "nbformat": 4,
 "nbformat_minor": 2
}
