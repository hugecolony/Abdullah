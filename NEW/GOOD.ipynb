{
 "cells": [
  {
   "cell_type": "code",
   "execution_count": 68,
   "metadata": {},
   "outputs": [
    {
     "ename": "IndentationError",
     "evalue": "unexpected indent (<ipython-input-68-e823593cfa1c>, line 3)",
     "output_type": "error",
     "traceback": [
      "\u001b[1;36m  File \u001b[1;32m\"<ipython-input-68-e823593cfa1c>\"\u001b[1;36m, line \u001b[1;32m3\u001b[0m\n\u001b[1;33m    return(good_enough)\u001b[0m\n\u001b[1;37m    ^\u001b[0m\n\u001b[1;31mIndentationError\u001b[0m\u001b[1;31m:\u001b[0m unexpected indent\n"
     ]
    }
   ],
   "source": [
    "def improve_guess(good_enough):\n",
    "      good_enough == better_guess**(1/2)\n",
    "        return(good_enough)\n",
    "        show = improve_guess(good_enough)\n",
    "\n",
    "  \n",
    "    "
   ]
  },
  {
   "cell_type": "code",
   "execution_count": 56,
   "metadata": {
    "collapsed": true
   },
   "outputs": [],
   "source": []
  },
  {
   "cell_type": "code",
   "execution_count": 12,
   "metadata": {},
   "outputs": [
    {
     "name": "stdout",
     "output_type": "stream",
     "text": [
      "better_guess =: 23.30768182721725\n",
      "improved_guess=: 4.827803002113617\n",
      "square_root =: 5.0\n"
     ]
    }
   ],
   "source": [
    "number=36\n",
    "guess=2.9\n",
    "def good_enough(number,guess):\n",
    "        better_guess = guess - (guess**(guess)- number)/2*guess\n",
    "        return better_guess\n",
    "\n",
    "def improve_guess(good_enough):\n",
    "    better_guess = good_enough**(0.5)\n",
    "    return(better_guess)\n",
    "        \n",
    "def sqrt(improve_guess):\n",
    "        if improve_guess >=0:\n",
    "            x=improve_guess**0.5\n",
    "            return x\n",
    "        else:\n",
    "            return(0)\n",
    "            \n",
    "result = good_enough(number,guess)\n",
    "shw = improve_guess(result)\n",
    "Answer= sqrt(25)    \n",
    "\n",
    "print(\"better_guess =:\",result)\n",
    "print(\"improved_guess=:\",shw)\n",
    "print(\"square_root =:\",Answer)\n",
    "\n",
    "\n",
    "    "
   ]
  },
  {
   "cell_type": "code",
   "execution_count": null,
   "metadata": {
    "collapsed": true
   },
   "outputs": [],
   "source": []
  },
  {
   "cell_type": "code",
   "execution_count": null,
   "metadata": {
    "collapsed": true
   },
   "outputs": [],
   "source": []
  }
 ],
 "metadata": {
  "kernelspec": {
   "display_name": "Python 3",
   "language": "python",
   "name": "python3"
  },
  "language_info": {
   "codemirror_mode": {
    "name": "ipython",
    "version": 3
   },
   "file_extension": ".py",
   "mimetype": "text/x-python",
   "name": "python",
   "nbconvert_exporter": "python",
   "pygments_lexer": "ipython3",
   "version": "3.6.2"
  }
 },
 "nbformat": 4,
 "nbformat_minor": 2
}
