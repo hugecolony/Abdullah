{
 "cells": [
  {
   "cell_type": "code",
   "execution_count": 21,
   "metadata": {},
   "outputs": [
    {
     "name": "stdout",
     "output_type": "stream",
     "text": [
      "2\n",
      "3\n",
      "5\n",
      "7\n",
      "11\n"
     ]
    }
   ],
   "source": [
    "n = 11\n",
    "for i in range(2,n+1):\n",
    "    for j in range (2,i):\n",
    "        if i%j==0:\n",
    "             break\n",
    "    else:    \n",
    "        print(i)         "
   ]
  },
  {
   "cell_type": "code",
   "execution_count": 30,
   "metadata": {},
   "outputs": [
    {
     "name": "stdout",
     "output_type": "stream",
     "text": [
      "2\n",
      "3\n",
      "5\n",
      "7\n",
      "11\n",
      "None\n"
     ]
    }
   ],
   "source": [
    "n = 11\n",
    "def is_prime(n):\n",
    "      for i in range(2,n+1):\n",
    "        for j in range (2,i):\n",
    "            if i%j==0:\n",
    "                 break\n",
    "        else:    \n",
    "            print(i)\n",
    "print(is_prime(n))"
   ]
  },
  {
   "cell_type": "code",
   "execution_count": 24,
   "metadata": {},
   "outputs": [
    {
     "name": "stdout",
     "output_type": "stream",
     "text": [
      "True\n"
     ]
    }
   ],
   "source": [
    "x = 13\n",
    "def is_prime(x):\n",
    "    for i in range(x,x+1):\n",
    "        if i > 1:\n",
    "            for j in range(2,i):\n",
    "                if (i%j)==0:\n",
    "                    return False\n",
    "            else:\n",
    "                return True\n",
    "                    \n",
    "print(is_prime(x))"
   ]
  },
  {
   "cell_type": "markdown",
   "metadata": {},
   "source": [
    "for i in range(1,x+1):\n",
    "    for j in range(1,x+1):   \n",
    "        if  i*j != x:\n",
    "            continue\n",
    "        \n",
    "print(i)\n",
    "     \n",
    "    "
   ]
  },
  {
   "cell_type": "code",
   "execution_count": 1,
   "metadata": {
    "collapsed": true
   },
   "outputs": [],
   "source": [
    "x = 10\n",
    "def output_factors(x):    \n",
    "    for i in range(1,x+1):\n",
    "        for j in range(1,x+1):   \n",
    "            if  i*j != x:\n",
    "                continue \n",
    "            else:\n",
    "                z=i\n",
    "                #print(z)\n",
    "                print(i)                \n",
    "#print(output_factors(x))\n",
    "                \n",
    "    "
   ]
  },
  {
   "cell_type": "code",
   "execution_count": null,
   "metadata": {
    "collapsed": true
   },
   "outputs": [],
   "source": []
  },
  {
   "cell_type": "code",
   "execution_count": 5,
   "metadata": {},
   "outputs": [
    {
     "name": "stdout",
     "output_type": "stream",
     "text": [
      "False\n"
     ]
    }
   ],
   "source": [
    "x = 9\n",
    "def is_prime(x):\n",
    "    for i in range(x,x+1):\n",
    "        if i > 1:\n",
    "            for j in range(2,i):\n",
    "                if (i%j)==0:\n",
    "                    return False\n",
    "            else:\n",
    "                return True\n",
    "                    \n",
    "print(is_prime(x))"
   ]
  },
  {
   "cell_type": "code",
   "execution_count": null,
   "metadata": {
    "collapsed": true
   },
   "outputs": [],
   "source": []
  },
  {
   "cell_type": "code",
   "execution_count": 15,
   "metadata": {},
   "outputs": [
    {
     "name": "stdout",
     "output_type": "stream",
     "text": [
      "7\n"
     ]
    }
   ],
   "source": [
    "#largest prime number\n",
    "n = 10\n",
    "for i in range(2,n+1):\n",
    "    for j in range (2,i):\n",
    "        if i%j==0:\n",
    "            break\n",
    "    else:    \n",
    "        x=i  \n",
    "        #print(i)\n",
    "print (x)"
   ]
  },
  {
   "cell_type": "code",
   "execution_count": 20,
   "metadata": {},
   "outputs": [
    {
     "name": "stdout",
     "output_type": "stream",
     "text": [
      "False\n"
     ]
    }
   ],
   "source": [
    "x = 4\n",
    "def is_prime(x):\n",
    "    y=x-int(x)\n",
    "    if y!=0:\n",
    "        return False\n",
    "    else:\n",
    "        x=int(x)\n",
    "    for i in range(x,x+1):\n",
    "        if i > 1:\n",
    "            for j in range(2,i):\n",
    "                if (i%j)==0:\n",
    "                    return False\n",
    "            else:\n",
    "                return True\n",
    "                    \n",
    "print(is_prime(x))"
   ]
  },
  {
   "cell_type": "code",
   "execution_count": 14,
   "metadata": {
    "scrolled": true
   },
   "outputs": [
    {
     "name": "stdout",
     "output_type": "stream",
     "text": [
      "11\n"
     ]
    }
   ],
   "source": [
    "n = 12\n",
    "y=n-int(n)\n",
    "if y==0:\n",
    "    (None)\n",
    "else:\n",
    "    n=int(n)\n",
    "for i in range(2,n+1):\n",
    "    for j in range (2,i):\n",
    "        if i%j==0:\n",
    "            break\n",
    "    else:    \n",
    "        x=i  \n",
    "        #print(i)\n",
    "print(x)"
   ]
  },
  {
   "cell_type": "code",
   "execution_count": 59,
   "metadata": {},
   "outputs": [
    {
     "name": "stdout",
     "output_type": "stream",
     "text": [
      "83\n"
     ]
    }
   ],
   "source": [
    "n = 87.9\n",
    "y=n-int(n)\n",
    "def get_largest_prime(y):\n",
    "    if n==0:\n",
    "        return(None)\n",
    "    else:\n",
    "        y=int(n)\n",
    "    for i in range(2,y+1):\n",
    "        for j in range (2,i):\n",
    "            if i%j==0:\n",
    "                break\n",
    "        else:    \n",
    "            x=i  \n",
    "    return(x)\n",
    "\n",
    "print(get_largest_prime(y))"
   ]
  },
  {
   "cell_type": "code",
   "execution_count": 54,
   "metadata": {},
   "outputs": [
    {
     "name": "stdout",
     "output_type": "stream",
     "text": [
      "11\n"
     ]
    }
   ],
   "source": [
    "\n",
    "def get_largest_prime(n):\n",
    "    if n == None :\n",
    "        return(None)\n",
    "    for i in range(2,n+1):\n",
    "        for j in range (2,i):\n",
    "                if i%j==0:\n",
    "                    break\n",
    "        else:    \n",
    "            x=i  \n",
    "    return (x)\n",
    "print(get_largest_prime(n))"
   ]
  },
  {
   "cell_type": "code",
   "execution_count": null,
   "metadata": {
    "collapsed": true
   },
   "outputs": [],
   "source": []
  }
 ],
 "metadata": {
  "kernelspec": {
   "display_name": "Python 3",
   "language": "python",
   "name": "python3"
  },
  "language_info": {
   "codemirror_mode": {
    "name": "ipython",
    "version": 3
   },
   "file_extension": ".py",
   "mimetype": "text/x-python",
   "name": "python",
   "nbconvert_exporter": "python",
   "pygments_lexer": "ipython3",
   "version": "3.6.2"
  }
 },
 "nbformat": 4,
 "nbformat_minor": 2
}
