{
 "cells": [
  {
   "cell_type": "code",
   "execution_count": 47,
   "metadata": {},
   "outputs": [
    {
     "ename": "IndexError",
     "evalue": "list index out of range",
     "output_type": "error",
     "traceback": [
      "\u001b[1;31m---------------------------------------------------------------------------\u001b[0m",
      "\u001b[1;31mIndexError\u001b[0m                                Traceback (most recent call last)",
      "\u001b[1;32m<ipython-input-47-2be598541aa6>\u001b[0m in \u001b[0;36m<module>\u001b[1;34m()\u001b[0m\n\u001b[0;32m     13\u001b[0m \u001b[1;33m\u001b[0m\u001b[0m\n\u001b[0;32m     14\u001b[0m     \u001b[1;32mreturn\u001b[0m \u001b[0mlst\u001b[0m\u001b[1;33m\u001b[0m\u001b[0m\n\u001b[1;32m---> 15\u001b[1;33m \u001b[0msplit_safe\u001b[0m\u001b[1;33m(\u001b[0m\u001b[0ms\u001b[0m\u001b[1;33m)\u001b[0m\u001b[1;33m\u001b[0m\u001b[0m\n\u001b[0m",
      "\u001b[1;32m<ipython-input-47-2be598541aa6>\u001b[0m in \u001b[0;36msplit_safe\u001b[1;34m(s)\u001b[0m\n\u001b[0;32m      9\u001b[0m             \u001b[0mcomma\u001b[0m\u001b[1;33m=\u001b[0m\u001b[1;32mTrue\u001b[0m\u001b[1;33m\u001b[0m\u001b[0m\n\u001b[0;32m     10\u001b[0m         \u001b[1;32melif\u001b[0m \u001b[0mw\u001b[0m\u001b[1;33m==\u001b[0m\u001b[1;34m\",\"\u001b[0m \u001b[1;32mand\u001b[0m \u001b[0mcomma\u001b[0m\u001b[1;33m==\u001b[0m\u001b[1;32mFalse\u001b[0m\u001b[1;33m:\u001b[0m\u001b[1;33m\u001b[0m\u001b[0m\n\u001b[1;32m---> 11\u001b[1;33m             \u001b[0mlst\u001b[0m\u001b[1;33m[\u001b[0m\u001b[0mindex\u001b[0m\u001b[1;33m]\u001b[0m\u001b[1;33m=\u001b[0m\u001b[0mlst\u001b[0m\u001b[1;33m[\u001b[0m\u001b[0mindex\u001b[0m\u001b[1;33m]\u001b[0m\u001b[1;33m+\u001b[0m\u001b[0mw\u001b[0m\u001b[1;33m\u001b[0m\u001b[0m\n\u001b[0m\u001b[0;32m     12\u001b[0m     \u001b[0mlst\u001b[0m\u001b[1;33m[\u001b[0m\u001b[0mindex\u001b[0m\u001b[1;33m]\u001b[0m\u001b[1;33m=\u001b[0m\u001b[0mlst\u001b[0m\u001b[1;33m[\u001b[0m\u001b[0mindex\u001b[0m\u001b[1;33m]\u001b[0m\u001b[1;33m+\u001b[0m\u001b[1;34m\"'\"\u001b[0m\u001b[1;33m\u001b[0m\u001b[0m\n\u001b[0;32m     13\u001b[0m \u001b[1;33m\u001b[0m\u001b[0m\n",
      "\u001b[1;31mIndexError\u001b[0m: list index out of range"
     ]
    }
   ],
   "source": [
    "s = \"Ali,Tariq,‘House 10, Street 20’, 30\"\n",
    "def split_safe(s):\n",
    "    lst=['']\n",
    "    index=0\n",
    "    comma=False\n",
    "    for w in s:\n",
    "        index += 1\n",
    "        if w ==\"'\":\n",
    "            comma=True\n",
    "        elif w==\",\" and comma==False:\n",
    "            lst[index]=lst[index]+w\n",
    "    lst[index]=lst[index]+\"'\"\n",
    "                          \n",
    "    return lst\n",
    "split_safe(s)            "
   ]
  },
  {
   "cell_type": "code",
   "execution_count": 48,
   "metadata": {
    "collapsed": true
   },
   "outputs": [],
   "source": [
    "directory = \"res\"\n",
    "file = \"file.csv\"\n"
   ]
  },
  {
   "cell_type": "code",
   "execution_count": 49,
   "metadata": {
    "collapsed": true
   },
   "outputs": [],
   "source": [
    "import os\n"
   ]
  },
  {
   "cell_type": "code",
   "execution_count": 50,
   "metadata": {
    "collapsed": true
   },
   "outputs": [],
   "source": [
    "filename=os.path.join(directory,file)"
   ]
  },
  {
   "cell_type": "code",
   "execution_count": 51,
   "metadata": {},
   "outputs": [
    {
     "name": "stdout",
     "output_type": "stream",
     "text": [
      "res\\file.csv\n"
     ]
    }
   ],
   "source": [
    "print(filename)"
   ]
  },
  {
   "cell_type": "code",
   "execution_count": 55,
   "metadata": {},
   "outputs": [],
   "source": [
    "with open(filename,\"r\") as f:\n",
    "    v=f.read()"
   ]
  },
  {
   "cell_type": "code",
   "execution_count": 56,
   "metadata": {},
   "outputs": [
    {
     "name": "stdout",
     "output_type": "stream",
     "text": [
      "Name,Father Name,Address,Age\n",
      "Ali,Farooq,'Street 10, Sector E2, Phase1',34\n",
      "Bilal,Khan,'Sector E3, Phase1',76\n",
      "Khan,Ajmal,Nowhere,65\n",
      "\n"
     ]
    }
   ],
   "source": [
    "print(v)"
   ]
  },
  {
   "cell_type": "code",
   "execution_count": 57,
   "metadata": {},
   "outputs": [
    {
     "data": {
      "text/plain": [
       "['Name,Father',\n",
       " 'Name,Address,Age',\n",
       " \"Ali,Farooq,'Street\",\n",
       " '10,',\n",
       " 'Sector',\n",
       " 'E2,',\n",
       " \"Phase1',34\",\n",
       " \"Bilal,Khan,'Sector\",\n",
       " 'E3,',\n",
       " \"Phase1',76\",\n",
       " 'Khan,Ajmal,Nowhere,65']"
      ]
     },
     "execution_count": 57,
     "metadata": {},
     "output_type": "execute_result"
    }
   ],
   "source": [
    "v.split()"
   ]
  },
  {
   "cell_type": "code",
   "execution_count": 129,
   "metadata": {},
   "outputs": [],
   "source": [
    "def read_data(directory,file):\n",
    "    import os\n",
    "    filename=os.path.join(directory,file)\n",
    "    with open(filename,\"r\")as f:\n",
    "        v=f.read().split()\n",
    "read_data(\"res\",\"file.csv\")\n",
    "    \n",
    "    "
   ]
  },
  {
   "cell_type": "code",
   "execution_count": 130,
   "metadata": {},
   "outputs": [
    {
     "data": {
      "text/plain": [
       "\"Name,Father Name,Address,Age\\nAli,Farooq,'Street 10, Sector E2, Phase1',34\\nBilal,Khan,'Sector E3, Phase1',76\\nKhan,Ajmal,Nowhere,65\\n\""
      ]
     },
     "execution_count": 130,
     "metadata": {},
     "output_type": "execute_result"
    }
   ],
   "source": [
    "v"
   ]
  },
  {
   "cell_type": "code",
   "execution_count": 118,
   "metadata": {},
   "outputs": [
    {
     "data": {
      "text/plain": [
       "['Ali,Tariq,‘House 10, Street 20’, 30']"
      ]
     },
     "execution_count": 118,
     "metadata": {},
     "output_type": "execute_result"
    }
   ],
   "source": [
    "s = \"Ali,Tariq,‘House 10, Street 20’, 30\"\n",
    "def split_safe(s):\n",
    "    lst=['']\n",
    "    index=0\n",
    "    comma=False\n",
    "    for w in s:\n",
    "        if w ==\"\"and comma ==False:\n",
    "            lst.append('')\n",
    "            index += 1\n",
    "        elif w==\"'\":\n",
    "            comma=True\n",
    "        elif w==\"'\":\n",
    "            comma=False\n",
    "        else:\n",
    "            lst[index]=lst[index]+w\n",
    "    return lst\n",
    "split_safe(s)    "
   ]
  },
  {
   "cell_type": "code",
   "execution_count": 256,
   "metadata": {},
   "outputs": [
    {
     "data": {
      "text/plain": [
       "['Ali', 'Tariq', '‘House 10', 'Street 20’', '30']"
      ]
     },
     "execution_count": 256,
     "metadata": {},
     "output_type": "execute_result"
    }
   ],
   "source": [
    "s = \"Ali,Tariq,‘House 10, Street 20’, 30\"\n",
    "def split_safe(s):\n",
    "    check =s.split(\"'\")\n",
    "    ans =[]\n",
    "    for i in range(len(check)):\n",
    "        if i%2==0:\n",
    "            for j in check[i].split(\",\"):\n",
    "                f=j.strip()\n",
    "                if len(f)>0:\n",
    "                    ans.append(f)\n",
    "        else:\n",
    "            #f.check[i].strip()\n",
    "            if len(f)>0:\n",
    "                ans.append(f)\n",
    "    return ans\n",
    "split_safe(s)"
   ]
  },
  {
   "cell_type": "code",
   "execution_count": 257,
   "metadata": {},
   "outputs": [
    {
     "name": "stdout",
     "output_type": "stream",
     "text": [
      "['Name,Father', 'Name,Address,Age']\n",
      "[\"Ali,Farooq,'Street\", '10,', 'Sector', 'E2,', \"Phase1',34\"]\n",
      "[\"Bilal,Khan,'Sector\", 'E3,', \"Phase1',76\"]\n",
      "['Khan,Ajmal,Nowhere,65']\n"
     ]
    }
   ],
   "source": [
    "def read_data(directory,file):\n",
    "    import os\n",
    "    full =os.path.join(directory,file)\n",
    "    with open(full,\"r\")as f:\n",
    "        for line in f:\n",
    "            print(line.split())\n",
    "read_data(\"res\",\"file.csv\")            "
   ]
  },
  {
   "cell_type": "code",
   "execution_count": 258,
   "metadata": {
    "collapsed": true
   },
   "outputs": [],
   "source": [
    "directory = \"res\"\n",
    "file = \"file.csv\"\n"
   ]
  },
  {
   "cell_type": "code",
   "execution_count": 259,
   "metadata": {},
   "outputs": [
    {
     "data": {
      "text/plain": [
       "<function __main__.read_data>"
      ]
     },
     "execution_count": 259,
     "metadata": {},
     "output_type": "execute_result"
    }
   ],
   "source": [
    "read_data"
   ]
  },
  {
   "cell_type": "code",
   "execution_count": 268,
   "metadata": {},
   "outputs": [
    {
     "name": "stdout",
     "output_type": "stream",
     "text": [
      "['Name', 'Father Name', 'Address', 'Age']\n",
      "['Ali', 'Farooq', '34']\n",
      "['Bilal', 'Khan', '76']\n",
      "['Khan', 'Ajmal', 'Nowhere', '65']\n",
      "None\n"
     ]
    }
   ],
   "source": [
    "rows =[]\n",
    "def read_data(directory,file):\n",
    "    import os\n",
    "    full =os.path.join(directory,file)\n",
    "    with open(full,\"r\")as f:\n",
    "        for line in f:\n",
    "            print(split_safe(line))\n",
    "            rows.append(line.split())\n",
    "\n",
    "print(read_data(\"res\",\"file.csv\"))            "
   ]
  },
  {
   "cell_type": "code",
   "execution_count": 265,
   "metadata": {},
   "outputs": [
    {
     "data": {
      "text/plain": [
       "[['Name,Father', 'Name,Address,Age'],\n",
       " [\"Ali,Farooq,'Street\", '10,', 'Sector', 'E2,', \"Phase1',34\"],\n",
       " [\"Bilal,Khan,'Sector\", 'E3,', \"Phase1',76\"],\n",
       " ['Khan,Ajmal,Nowhere,65']]"
      ]
     },
     "execution_count": 265,
     "metadata": {},
     "output_type": "execute_result"
    }
   ],
   "source": [
    "rows"
   ]
  },
  {
   "cell_type": "code",
   "execution_count": null,
   "metadata": {
    "collapsed": true
   },
   "outputs": [],
   "source": []
  }
 ],
 "metadata": {
  "kernelspec": {
   "display_name": "Python 3",
   "language": "python",
   "name": "python3"
  },
  "language_info": {
   "codemirror_mode": {
    "name": "ipython",
    "version": 3
   },
   "file_extension": ".py",
   "mimetype": "text/x-python",
   "name": "python",
   "nbconvert_exporter": "python",
   "pygments_lexer": "ipython3",
   "version": "3.6.2"
  }
 },
 "nbformat": 4,
 "nbformat_minor": 2
}
