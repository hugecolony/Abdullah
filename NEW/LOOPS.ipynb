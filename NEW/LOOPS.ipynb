{
 "cells": [
  {
   "cell_type": "code",
   "execution_count": 43,
   "metadata": {},
   "outputs": [
    {
     "name": "stdout",
     "output_type": "stream",
     "text": [
      "1\n",
      "3\n",
      "5\n",
      "7\n",
      "9\n",
      "11\n",
      "13\n",
      "15\n",
      "17\n",
      "19\n",
      "total count= 10\n",
      "done\n"
     ]
    }
   ],
   "source": [
    "#loop parameter se 1 vaiable pehlay rukay gha\n",
    "# use \"for\" if you know all the starting and ending parameter\n",
    "j=1\n",
    "n=0\n",
    "for x in range(10):\n",
    "    print(j)\n",
    "    j =j+2\n",
    "    n=n+1\n",
    "print(\"total count=\",n)\n",
    "print(\"done\")"
   ]
  },
  {
   "cell_type": "code",
   "execution_count": 45,
   "metadata": {},
   "outputs": [
    {
     "name": "stdout",
     "output_type": "stream",
     "text": [
      "5\n",
      "done\n"
     ]
    }
   ],
   "source": [
    "# for finding range b/w 2 parameter\n",
    "j=0\n",
    "for i in range(0,5):\n",
    "       j=j+1\n",
    "print(j)\n",
    "print(\"done\")\n",
    "\n",
    "    "
   ]
  },
  {
   "cell_type": "code",
   "execution_count": 46,
   "metadata": {},
   "outputs": [
    {
     "name": "stdout",
     "output_type": "stream",
     "text": [
      "1\n",
      "2\n",
      "4\n",
      "5\n",
      "done\n"
     ]
    }
   ],
   "source": [
    "# CONTINUE\n",
    "# for mein ik number pehlay rukay ga\n",
    "for i in range(1,6):\n",
    "    if i==3:  # == for comparison\n",
    "        continue # skip\n",
    "    print(i)\n",
    "print(\"done\")    "
   ]
  },
  {
   "cell_type": "code",
   "execution_count": 49,
   "metadata": {},
   "outputs": [
    {
     "name": "stdout",
     "output_type": "stream",
     "text": [
      "1\n",
      "3\n",
      "5\n",
      "7\n",
      "9\n",
      "11\n",
      "13\n",
      "15\n",
      "17\n",
      "19\n",
      "21\n"
     ]
    }
   ],
   "source": [
    "# FOR ODD NUMBERS\n",
    "# for skipping 2\n",
    "\n",
    "for i in range(1,23):\n",
    "    if i%2==0: # % is remainder and == for comparison\n",
    "        continue # skip\n",
    "    print(i)\n",
    " # question why not 2 and 4          "
   ]
  },
  {
   "cell_type": "code",
   "execution_count": 51,
   "metadata": {},
   "outputs": [
    {
     "name": "stdout",
     "output_type": "stream",
     "text": [
      "2\n",
      "4\n",
      "6\n",
      "8\n",
      "10\n",
      "12\n",
      "14\n",
      "16\n"
     ]
    }
   ],
   "source": [
    "# FOR EVEN NUMBERS\n",
    "# for not condition\n",
    "for i in range (1,17):\n",
    "    if  not i%2 == 0:\n",
    "        continue\n",
    "    print(i)\n",
    "    "
   ]
  },
  {
   "cell_type": "code",
   "execution_count": 29,
   "metadata": {},
   "outputs": [
    {
     "name": "stdout",
     "output_type": "stream",
     "text": [
      "1\n",
      "done\n"
     ]
    }
   ],
   "source": [
    "# BREAK end of loop \n",
    "for i in range(1,6):\n",
    "    if   i%2==0:\n",
    "        break\n",
    "    print(i)\n",
    "print(\"done\")"
   ]
  },
  {
   "cell_type": "code",
   "execution_count": 8,
   "metadata": {},
   "outputs": [
    {
     "name": "stdout",
     "output_type": "stream",
     "text": [
      "done\n"
     ]
    }
   ],
   "source": [
    "# for not break\n",
    "for i in range(1,6):\n",
    "    if not i%2==0:\n",
    "        break\n",
    "    print(i)\n",
    "print(\"done\")    "
   ]
  },
  {
   "cell_type": "code",
   "execution_count": 23,
   "metadata": {
    "scrolled": true
   },
   "outputs": [
    {
     "name": "stdout",
     "output_type": "stream",
     "text": [
      "0\n",
      "1\n",
      "2\n",
      "3\n",
      "4\n",
      "5\n",
      "6\n",
      "7\n",
      "8\n",
      "9\n",
      "Total Nos= 10\n",
      "done\n"
     ]
    }
   ],
   "source": [
    "# WHILE(condition) = when you dont know the perfect parameters\n",
    "# WHILE = Jab tak true ho ga execute karay ga lekin jab false ho ga tu body ko skip kar ke print pe jaye ga\n",
    "n = 0\n",
    "while n < 10:\n",
    "    print(n)\n",
    "    n = n + 1\n",
    "print ('Total Nos=',n)\n",
    "print(\"done\")\n",
    "    "
   ]
  },
  {
   "cell_type": "code",
   "execution_count": 63,
   "metadata": {},
   "outputs": [
    {
     "name": "stdout",
     "output_type": "stream",
     "text": [
      "0.26\n",
      "0.39\n",
      "0.52\n",
      "0.65\n",
      "0.78\n",
      "0.91\n",
      "1.04\n",
      "total rep 7\n"
     ]
    }
   ],
   "source": [
    "# for how may values. # COUNTER MAKIING\n",
    "n = 0.13\n",
    "i = 0\n",
    "while n < 1:\n",
    "    i = i + 1\n",
    "    n = n + 0.13\n",
    "    print(n)\n",
    "print('total rep',i)"
   ]
  },
  {
   "cell_type": "code",
   "execution_count": 54,
   "metadata": {},
   "outputs": [
    {
     "name": "stdout",
     "output_type": "stream",
     "text": [
      "put sugar in: tea pot\n",
      "put milk in: tea pot\n",
      "put tea in: tea pot\n",
      "done\n"
     ]
    }
   ],
   "source": [
    "for ingredient in \"sugar\",\"milk\",\"tea\":\n",
    "    print(\"put\",ingredient,\"in:\",'tea pot')\n",
    "print(\"done\")         "
   ]
  },
  {
   "cell_type": "code",
   "execution_count": 5,
   "metadata": {},
   "outputs": [
    {
     "name": "stdout",
     "output_type": "stream",
     "text": [
      "total number =: 10\n",
      "total odd   =: 21\n",
      "total  even =: 20\n"
     ]
    }
   ],
   "source": [
    "n = 0\n",
    "o = 1\n",
    "e = 0\n",
    "for i in range(90,100):\n",
    "    n = n + 1\n",
    "    o = o + 2\n",
    "    e = e + 2\n",
    "print(\"total number =:\", n)\n",
    "print(\"total odd   =:\", o)\n",
    "print(\"total  even =:\", e)    "
   ]
  },
  {
   "cell_type": "code",
   "execution_count": 26,
   "metadata": {},
   "outputs": [
    {
     "name": "stdout",
     "output_type": "stream",
     "text": [
      "Sq Root= 10000\n",
      "Sq Root= 9801\n",
      "Sq Root= 9604\n",
      "Sq Root= 9409\n",
      "Sq Root= 9216\n",
      "Sq Root= 9025\n",
      "Sq Root= 8836\n",
      "Sq Root= 8649\n",
      "Sq Root= 8464\n",
      "Sq Root= 8281\n"
     ]
    }
   ],
   "source": [
    "n = 100\n",
    "i = 0\n",
    "\n",
    "def sqrt(x):\n",
    "    y=(x*x)\n",
    "    return(y)\n",
    "\n",
    "while i < 10:\n",
    "    i = i + 1\n",
    "    res=sqrt(n)\n",
    "    n=n-1\n",
    "    print('Sq Root=',res)"
   ]
  },
  {
   "cell_type": "code",
   "execution_count": 1,
   "metadata": {},
   "outputs": [
    {
     "name": "stdout",
     "output_type": "stream",
     "text": [
      "please enter the number :9\n",
      "2\n",
      "3\n",
      "5\n",
      "7\n"
     ]
    }
   ],
   "source": [
    "#prime numbers\n",
    "-\n",
    "n = int(input(\"please enter the number :\"))\n",
    "for y in range (2,n+1):\n",
    "    for x in range (2,y):\n",
    "            if y%x ==0:\n",
    "                break\n",
    "    else:\n",
    "        print(y)"
   ]
  },
  {
   "cell_type": "code",
   "execution_count": null,
   "metadata": {
    "collapsed": true
   },
   "outputs": [],
   "source": []
  }
 ],
 "metadata": {
  "kernelspec": {
   "display_name": "Python 3",
   "language": "python",
   "name": "python3"
  },
  "language_info": {
   "codemirror_mode": {
    "name": "ipython",
    "version": 3
   },
   "file_extension": ".py",
   "mimetype": "text/x-python",
   "name": "python",
   "nbconvert_exporter": "python",
   "pygments_lexer": "ipython3",
   "version": "3.6.2"
  }
 },
 "nbformat": 4,
 "nbformat_minor": 2
}
