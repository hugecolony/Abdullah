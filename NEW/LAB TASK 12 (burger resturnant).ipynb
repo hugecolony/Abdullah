{
 "cells": [
  {
   "cell_type": "code",
   "execution_count": 1,
   "metadata": {},
   "outputs": [
    {
     "name": "stdout",
     "output_type": "stream",
     "text": [
      "do yo want to order (y/n)n\n"
     ]
    }
   ],
   "source": [
    "directory = \"res\"\n",
    "file = \"menu.txt\"\n",
    "import os\n",
    "filename = os.path.join(directory,file)\n",
    "new_bur = {\"zinger Burger \": 250,\"cheese\": 260,\"Thames Special\":320}\n",
    "new_ste = {\"arizona steak\":650 , \"mushroom steak\":650,\"pepper steak\":650}\n",
    "choice = input(\"do yo want to order (y/n)\")\n",
    "while choice == \"y\":\n",
    "    customer = input(\"do you want (burger or steak)\")\n",
    "    if customer == \"burger\":\n",
    "        print(new_bur)\n",
    "        order = input(\"you want to choose which burger(new_bur)\")\n",
    "        quantity = int(input(\"how much\"))\n",
    "        print(\"Each cost\",new_bur[order])\n",
    "        total_bill = \"order\"\n",
    "        #if quantity>=2:\n",
    "        bill = new_bur[order]*quantity\n",
    "        total_bll =bill + 100 * 0.25\n",
    "        print(total_bll)\n",
    "        \n",
    "    else:\n",
    "        #customer == \"steak\"\n",
    "        print(new_ste)\n",
    "        order = input(\"you want to choose which steak(new_ste)\")\n",
    "        quantity = int(input(\"how much\"))\n",
    "        print(\"Each cost\",new_ste[order])\n",
    "        total_bill = \"order\"\n",
    "        #if quantity>=2:\n",
    "        bill = new_ste[order]*quantity\n",
    "        total_bll =bill + 100 * 0.25\n",
    "        print(total_bll) \n",
    "        item=\"Product Name : \" + customer +\"\\n\"\n",
    "        item1=\"Your Order Was : \" + order +\"\\n\"\n",
    "        qty= \"Quantity :\" + str(quantity)+\"\\n\"\n",
    "        tot=\"Total Bill : Rs. \" + str(total_bll) + \"/-\"\n",
    "      #sada = str(bill)\n",
    "        with open(filename,\"a\")as f:\n",
    "            f.write(item)\n",
    "            f.write(item1)\n",
    "            f.write(qty)\n",
    "            f.write(tot)\n",
    "           # f.write(sada)\n",
    "        \n",
    "    choice=input(\"Repeat y/n\")\n",
    "        "
   ]
  },
  {
   "cell_type": "code",
   "execution_count": null,
   "metadata": {
    "collapsed": true
   },
   "outputs": [],
   "source": [
    "directory = \"res\"\n",
    "file = \"menu.txt\""
   ]
  },
  {
   "cell_type": "code",
   "execution_count": null,
   "metadata": {
    "collapsed": true
   },
   "outputs": [],
   "source": [
    "import os\n",
    "\n"
   ]
  },
  {
   "cell_type": "code",
   "execution_count": null,
   "metadata": {
    "collapsed": true
   },
   "outputs": [],
   "source": [
    "filename = os.path.join(directory,file)"
   ]
  },
  {
   "cell_type": "code",
   "execution_count": null,
   "metadata": {
    "collapsed": true
   },
   "outputs": [],
   "source": [
    "filename"
   ]
  },
  {
   "cell_type": "code",
   "execution_count": null,
   "metadata": {
    "collapsed": true
   },
   "outputs": [],
   "source": [
    "with open(filename,\"w\")as f:\n",
    "    f.write(data)"
   ]
  },
  {
   "cell_type": "code",
   "execution_count": null,
   "metadata": {
    "collapsed": true
   },
   "outputs": [],
   "source": []
  }
 ],
 "metadata": {
  "kernelspec": {
   "display_name": "Python 3",
   "language": "python",
   "name": "python3"
  },
  "language_info": {
   "codemirror_mode": {
    "name": "ipython",
    "version": 3
   },
   "file_extension": ".py",
   "mimetype": "text/x-python",
   "name": "python",
   "nbconvert_exporter": "python",
   "pygments_lexer": "ipython3",
   "version": "3.6.2"
  }
 },
 "nbformat": 4,
 "nbformat_minor": 2
}
