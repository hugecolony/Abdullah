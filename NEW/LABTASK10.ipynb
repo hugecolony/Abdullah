{
 "cells": [
  {
   "cell_type": "code",
   "execution_count": 3,
   "metadata": {},
   "outputs": [
    {
     "name": "stdout",
     "output_type": "stream",
     "text": [
      "value of : saad\n",
      "value of : 2\n",
      "value of : None\n",
      "value of : True\n"
     ]
    }
   ],
   "source": [
    "tuple =(\"saad\",2,None,True,\"A\")\n",
    "a,b,c,d,e = tuple\n",
    "print(\"value of :\",a)\n",
    "print(\"value of :\",b)\n",
    "print(\"value of :\",c)\n",
    "print(\"value of :\",d)"
   ]
  },
  {
   "cell_type": "code",
   "execution_count": 7,
   "metadata": {},
   "outputs": [
    {
     "name": "stdout",
     "output_type": "stream",
     "text": [
      "[2, 2, 4, 11, 41]\n"
     ]
    }
   ],
   "source": [
    "old_list = [2,41,11,2,4]\n",
    "new_list=[]\n",
    "def function(old_list):\n",
    "    while old_list:\n",
    "        maximum = old_list[0]\n",
    "        for x in old_list:\n",
    "            if x<maximum:\n",
    "                maximum=x\n",
    "        new_list.append(maximum)\n",
    "        old_list.remove(maximum)\n",
    "    print(new_list)\n",
    "(function(old_list)) "
   ]
  },
  {
   "cell_type": "code",
   "execution_count": 8,
   "metadata": {},
   "outputs": [
    {
     "name": "stdout",
     "output_type": "stream",
     "text": [
      "True\n"
     ]
    }
   ],
   "source": [
    "a = {\"hello\":\"hi\",\"bye\":\"saa\"}\n",
    "def f(a):\n",
    "    for i in a.keys():\n",
    "        if i==i:\n",
    "            return True\n",
    "        else:\n",
    "            return False\n",
    "print(f(a))        \n",
    "        "
   ]
  },
  {
   "cell_type": "code",
   "execution_count": 11,
   "metadata": {},
   "outputs": [
    {
     "name": "stdout",
     "output_type": "stream",
     "text": [
      "True\n"
     ]
    }
   ],
   "source": [
    "def f(a):\n",
    "    if \"hello\" in a:\n",
    "        return True\n",
    "    else:\n",
    "        return False\n",
    "print(f(a))    "
   ]
  },
  {
   "cell_type": "code",
   "execution_count": 22,
   "metadata": {},
   "outputs": [
    {
     "name": "stdout",
     "output_type": "stream",
     "text": [
      "One\n",
      "Two\n",
      "1\n"
     ]
    },
    {
     "data": {
      "text/plain": [
       "1"
      ]
     },
     "execution_count": 22,
     "metadata": {},
     "output_type": "execute_result"
    }
   ],
   "source": [
    "b = {\"One\":1 ,\"Two\":2}\n",
    "def f(b):\n",
    "    k = 0 \n",
    "    for i in b.keys():\n",
    "        print(i)\n",
    "    for j in b.values():\n",
    "        k = j+k\n",
    "        print(k)\n",
    "        return k\n",
    "f(b)\n",
    "\n"
   ]
  },
  {
   "cell_type": "code",
   "execution_count": 27,
   "metadata": {},
   "outputs": [
    {
     "name": "stdout",
     "output_type": "stream",
     "text": [
      "One\n",
      "Two\n",
      "1\n"
     ]
    }
   ],
   "source": [
    "a = f(b)"
   ]
  },
  {
   "cell_type": "code",
   "execution_count": 28,
   "metadata": {},
   "outputs": [
    {
     "name": "stdout",
     "output_type": "stream",
     "text": [
      "odd\n"
     ]
    }
   ],
   "source": [
    "if a%2==0:\n",
    "    print(\"even\")\n",
    "else:\n",
    "    print(\"odd\")"
   ]
  },
  {
   "cell_type": "code",
   "execution_count": null,
   "metadata": {
    "collapsed": true
   },
   "outputs": [],
   "source": []
  }
 ],
 "metadata": {
  "kernelspec": {
   "display_name": "Python 3",
   "language": "python",
   "name": "python3"
  },
  "language_info": {
   "codemirror_mode": {
    "name": "ipython",
    "version": 3
   },
   "file_extension": ".py",
   "mimetype": "text/x-python",
   "name": "python",
   "nbconvert_exporter": "python",
   "pygments_lexer": "ipython3",
   "version": "3.6.2"
  }
 },
 "nbformat": 4,
 "nbformat_minor": 2
}
