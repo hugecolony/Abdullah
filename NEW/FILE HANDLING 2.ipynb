{
 "cells": [
  {
   "cell_type": "code",
   "execution_count": 2,
   "metadata": {},
   "outputs": [
    {
     "name": "stdout",
     "output_type": "stream",
     "text": [
      "res\\datafile.csv\n"
     ]
    }
   ],
   "source": [
    "directory = \"res\"\n",
    "import os\n",
    "csv_filename = os.path.join(directory,\"datafile.csv\")\n",
    "print(csv_filename)\n"
   ]
  },
  {
   "cell_type": "code",
   "execution_count": 3,
   "metadata": {},
   "outputs": [
    {
     "name": "stdout",
     "output_type": "stream",
     "text": [
      "['Roll no', 'Full Name', ' A1', ' A2', ' A3', ' A4']\n",
      "['p101111', 'Ali Khayam', ' 64', ' 78.5', ' 89', ' 25']\n",
      "['p101112', 'Mudasser Farooq', ' 14', ' 28.5', ' 83', ' 76']\n",
      "['p101113', 'Tamleek Ali', ' 87', ' 12', ' 1.6', ' 22']\n"
     ]
    }
   ],
   "source": [
    "with open(csv_filename,\"r\") as f:\n",
    "    for line in f:\n",
    "        print(line.strip().split(\",\"))"
   ]
  },
  {
   "cell_type": "code",
   "execution_count": 5,
   "metadata": {},
   "outputs": [
    {
     "name": "stdout",
     "output_type": "stream",
     "text": [
      "['Roll no', 'Full Name', ' A1', ' A2', ' A3', ' A4']\n",
      "['p101111', 'Ali Khayam', ' 64', ' 78.5', ' 89', ' 25']\n",
      "['p101112', 'Mudasser Farooq', ' 14', ' 28.5', ' 83', ' 76']\n",
      "['p101113', 'Tamleek Ali', ' 87', ' 12', ' 1.6', ' 22']\n"
     ]
    }
   ],
   "source": [
    "rows =[]\n",
    "with open(csv_filename) as f:\n",
    "    for line in f:\n",
    "        print(line.strip().split(\",\"))\n",
    "        rows.append(line.strip().split(\",\"))"
   ]
  },
  {
   "cell_type": "code",
   "execution_count": 6,
   "metadata": {},
   "outputs": [
    {
     "data": {
      "text/plain": [
       "[['Roll no', 'Full Name', ' A1', ' A2', ' A3', ' A4'],\n",
       " ['p101111', 'Ali Khayam', ' 64', ' 78.5', ' 89', ' 25'],\n",
       " ['p101112', 'Mudasser Farooq', ' 14', ' 28.5', ' 83', ' 76'],\n",
       " ['p101113', 'Tamleek Ali', ' 87', ' 12', ' 1.6', ' 22']]"
      ]
     },
     "execution_count": 6,
     "metadata": {},
     "output_type": "execute_result"
    }
   ],
   "source": [
    "rows"
   ]
  },
  {
   "cell_type": "code",
   "execution_count": 16,
   "metadata": {
    "collapsed": true
   },
   "outputs": [],
   "source": [
    "for r in rows[1:]:\n",
    "    for i in range(2,6):\n",
    "        r[i]=float(r[i])\n",
    "        "
   ]
  },
  {
   "cell_type": "code",
   "execution_count": 17,
   "metadata": {},
   "outputs": [
    {
     "data": {
      "text/plain": [
       "[['Roll no', 'Full Name', ' A1', ' A2', ' A3', ' A4'],\n",
       " ['p101111', 'Ali Khayam', 64.0, 78.5, 89.0, 25.0],\n",
       " ['p101112', 'Mudasser Farooq', 14.0, 28.5, 83.0, 76.0],\n",
       " ['p101113', 'Tamleek Ali', 87.0, 12.0, 1.6, 22.0]]"
      ]
     },
     "execution_count": 17,
     "metadata": {},
     "output_type": "execute_result"
    }
   ],
   "source": [
    "rows"
   ]
  },
  {
   "cell_type": "markdown",
   "metadata": {},
   "source": [
    "# writing csv file"
   ]
  },
  {
   "cell_type": "code",
   "execution_count": 18,
   "metadata": {},
   "outputs": [
    {
     "data": {
      "text/plain": [
       "'a,b,c'"
      ]
     },
     "execution_count": 18,
     "metadata": {},
     "output_type": "execute_result"
    }
   ],
   "source": [
    "\",\".join(['a','b','c'])"
   ]
  },
  {
   "cell_type": "code",
   "execution_count": 30,
   "metadata": {},
   "outputs": [
    {
     "name": "stdout",
     "output_type": "stream",
     "text": [
      "['Roll no', 'Full Name', ' A1', ' A2', ' A3', ' A4']\n",
      "['p101111', 'Ali Khayam', '64.0', '78.5', '89.0', '25.0']\n",
      "['p101112', 'Mudasser Farooq', '14.0', '28.5', '83.0', '76.0']\n",
      "['p101113', 'Tamleek Ali', '87.0', '12.0', '1.6', '22.0']\n"
     ]
    }
   ],
   "source": [
    "for r in rows:\n",
    "    print([str(c) for c in r])"
   ]
  },
  {
   "cell_type": "code",
   "execution_count": 2,
   "metadata": {
    "collapsed": true
   },
   "outputs": [],
   "source": [
    "out_rows = []\n"
   ]
  },
  {
   "cell_type": "code",
   "execution_count": 3,
   "metadata": {},
   "outputs": [],
   "source": [
    "for r in out_rows:\n",
    "    out_line = \",\".join(r)\n",
    "    print(out_line)"
   ]
  },
  {
   "cell_type": "code",
   "execution_count": 6,
   "metadata": {},
   "outputs": [
    {
     "data": {
      "text/plain": [
       "[]"
      ]
     },
     "execution_count": 6,
     "metadata": {},
     "output_type": "execute_result"
    }
   ],
   "source": [
    "out_rows"
   ]
  },
  {
   "cell_type": "code",
   "execution_count": 35,
   "metadata": {
    "collapsed": true
   },
   "outputs": [],
   "source": [
    "csv_filename_out= os.path.join(directory,\"datafile_out.csv\")\n",
    "with open(csv_filename_out,\"w\") as f:\n",
    "    for r in out_rows:\n",
    "        out_line = \",\".join(r)\n",
    "        f.write(out_line + \"/n\")\n",
    "    "
   ]
  },
  {
   "cell_type": "code",
   "execution_count": null,
   "metadata": {
    "collapsed": true
   },
   "outputs": [],
   "source": []
  }
 ],
 "metadata": {
  "kernelspec": {
   "display_name": "Python 3",
   "language": "python",
   "name": "python3"
  },
  "language_info": {
   "codemirror_mode": {
    "name": "ipython",
    "version": 3
   },
   "file_extension": ".py",
   "mimetype": "text/x-python",
   "name": "python",
   "nbconvert_exporter": "python",
   "pygments_lexer": "ipython3",
   "version": "3.6.2"
  }
 },
 "nbformat": 4,
 "nbformat_minor": 2
}
