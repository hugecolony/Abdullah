{
 "cells": [
  {
   "cell_type": "code",
   "execution_count": 1,
   "metadata": {
    "collapsed": true
   },
   "outputs": [],
   "source": [
    "directory = \"res\"\n",
    "name = \"dummy.txt\"\n"
   ]
  },
  {
   "cell_type": "code",
   "execution_count": 2,
   "metadata": {
    "collapsed": true
   },
   "outputs": [],
   "source": [
    "import os\n"
   ]
  },
  {
   "cell_type": "code",
   "execution_count": 3,
   "metadata": {},
   "outputs": [
    {
     "name": "stdout",
     "output_type": "stream",
     "text": [
      "res\\dummy.txt\n"
     ]
    }
   ],
   "source": [
    "filename = os.path.join(directory,name)\n",
    "print(filename)"
   ]
  },
  {
   "cell_type": "code",
   "execution_count": 8,
   "metadata": {},
   "outputs": [
    {
     "name": "stdout",
     "output_type": "stream",
     "text": [
      "hello.\n",
      "\n",
      "hahah\n"
     ]
    }
   ],
   "source": [
    "f = open(filename,\"r\")#handle\n",
    "\n",
    "for line in f: # line k andar /n laga hua hai wo print krta hai is leye space ata hai\n",
    "    print(line)\n",
    "\n",
    "f.close()    #never forget this"
   ]
  },
  {
   "cell_type": "code",
   "execution_count": 11,
   "metadata": {},
   "outputs": [
    {
     "name": "stdout",
     "output_type": "stream",
     "text": [
      "hello.\n",
      "hahah\n"
     ]
    }
   ],
   "source": [
    "f = open(filename,\"r\")#handle\n",
    "\n",
    "for line in f: # line k andar /n laga hua hai wo print krta hai is leye space ata hai\n",
    "    print(line.strip()) # strip ?n ko kat ta hai\n",
    "\n",
    "f.close()    #never forget this"
   ]
  },
  {
   "cell_type": "code",
   "execution_count": 20,
   "metadata": {},
   "outputs": [
    {
     "name": "stdout",
     "output_type": "stream",
     "text": [
      "hello.\n",
      "hahah\n"
     ]
    }
   ],
   "source": [
    "with open(filename,\"r\") as f:#handle\n",
    "    for line in f: # line k andar /n laga hua hai wo print krta hai is leye space ata hai\n",
    "        print(line.strip())\n",
    "        # with automatically f.close krta hai # housekeeper\n"
   ]
  },
  {
   "cell_type": "code",
   "execution_count": 22,
   "metadata": {},
   "outputs": [
    {
     "name": "stdout",
     "output_type": "stream",
     "text": [
      "hello.\n",
      "hahah\n"
     ]
    }
   ],
   "source": [
    "with open(filename,\"r\") as f:\n",
    "    v = f.read()\n",
    "    print(v)\n"
   ]
  },
  {
   "cell_type": "code",
   "execution_count": 26,
   "metadata": {},
   "outputs": [
    {
     "data": {
      "text/plain": [
       "['a', 'b', 'c']"
      ]
     },
     "execution_count": 26,
     "metadata": {},
     "output_type": "execute_result"
    }
   ],
   "source": [
    "('a-b-c').split(\"-\")\n",
    "\n"
   ]
  },
  {
   "cell_type": "code",
   "execution_count": 28,
   "metadata": {},
   "outputs": [],
   "source": [
    "l = []\n",
    "with open(filename,\"r\")as f:\n",
    "    l =f.read().split(\"/n\")"
   ]
  },
  {
   "cell_type": "code",
   "execution_count": 30,
   "metadata": {},
   "outputs": [
    {
     "name": "stdout",
     "output_type": "stream",
     "text": [
      "['hello.\\nhahah']\n"
     ]
    }
   ],
   "source": [
    "print(l)"
   ]
  },
  {
   "cell_type": "code",
   "execution_count": 32,
   "metadata": {
    "collapsed": true
   },
   "outputs": [],
   "source": [
    "with open(filename,\"w\") as f:\n",
    "    f.write(\"two.......\")\n"
   ]
  },
  {
   "cell_type": "code",
   "execution_count": 33,
   "metadata": {
    "collapsed": true
   },
   "outputs": [],
   "source": [
    "with open(filename,\"a\") as f:\n",
    "    f.write(\"three....\")"
   ]
  },
  {
   "cell_type": "code",
   "execution_count": 39,
   "metadata": {
    "collapsed": true
   },
   "outputs": [],
   "source": [
    "with open(filename,\"a\") as f:\n",
    "    f.write(\"four..../n\")"
   ]
  },
  {
   "cell_type": "code",
   "execution_count": 40,
   "metadata": {
    "collapsed": true
   },
   "outputs": [],
   "source": [
    "with open(filename,\"a\") as f:\n",
    "    f.write(\"five..../n\")"
   ]
  },
  {
   "cell_type": "code",
   "execution_count": null,
   "metadata": {
    "collapsed": true
   },
   "outputs": [],
   "source": []
  }
 ],
 "metadata": {
  "kernelspec": {
   "display_name": "Python 3",
   "language": "python",
   "name": "python3"
  },
  "language_info": {
   "codemirror_mode": {
    "name": "ipython",
    "version": 3
   },
   "file_extension": ".py",
   "mimetype": "text/x-python",
   "name": "python",
   "nbconvert_exporter": "python",
   "pygments_lexer": "ipython3",
   "version": "3.6.2"
  }
 },
 "nbformat": 4,
 "nbformat_minor": 2
}
