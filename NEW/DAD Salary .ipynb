{
 "cells": [
  {
   "cell_type": "code",
   "execution_count": 3,
   "metadata": {},
   "outputs": [
    {
     "ename": "NameError",
     "evalue": "name 'Print' is not defined",
     "output_type": "error",
     "traceback": [
      "\u001b[1;31m---------------------------------------------------------------------------\u001b[0m",
      "\u001b[1;31mNameError\u001b[0m                                 Traceback (most recent call last)",
      "\u001b[1;32m<ipython-input-3-9f7fc0d2df97>\u001b[0m in \u001b[0;36m<module>\u001b[1;34m()\u001b[0m\n\u001b[0;32m      2\u001b[0m \u001b[1;32mif\u001b[0m \u001b[0msal\u001b[0m\u001b[1;33m>=\u001b[0m\u001b[1;36m50000\u001b[0m \u001b[1;33m&\u001b[0m \u001b[0msal\u001b[0m\u001b[1;33m<=\u001b[0m\u001b[1;36m100000\u001b[0m\u001b[1;33m:\u001b[0m\u001b[1;33m\u001b[0m\u001b[0m\n\u001b[0;32m      3\u001b[0m     \u001b[0mtax\u001b[0m\u001b[1;33m=\u001b[0m\u001b[1;36m2\u001b[0m\u001b[1;33m\u001b[0m\u001b[0m\n\u001b[1;32m----> 4\u001b[1;33m \u001b[0mPrint\u001b[0m \u001b[1;33m(\u001b[0m\u001b[1;34m\"tax\"\u001b[0m\u001b[1;33m)\u001b[0m\u001b[1;33m\u001b[0m\u001b[0m\n\u001b[0m",
      "\u001b[1;31mNameError\u001b[0m: name 'Print' is not defined"
     ]
    }
   ],
   "source": [
    "sal=50000\n",
    "if sal>=50000 & sal<=100000:\n",
    "    tax=2\n",
    "Print (\"tax\")\n"
   ]
  },
  {
   "cell_type": "code",
   "execution_count": 5,
   "metadata": {},
   "outputs": [
    {
     "name": "stdout",
     "output_type": "stream",
     "text": [
      "iam abdullah\n",
      "done\n"
     ]
    }
   ],
   "source": [
    "a = 10 \n",
    "b = 2\n",
    "if a > 5:\n",
    "    if b >5:\n",
    "         print(\"my name is abdullah\")\n",
    "    else:\n",
    "        print(\"iam abdullah\")\n",
    "else:\n",
    "    print(\"Hi am abdullah \")\n",
    "    \n",
    "print('done')"
   ]
  },
  {
   "cell_type": "code",
   "execution_count": 18,
   "metadata": {},
   "outputs": [
    {
     "name": "stdout",
     "output_type": "stream",
     "text": [
      "tax rate= 5\n",
      "tax value calculated= 65000.0\n",
      "Net Salary= 1235000.0\n",
      "done\n"
     ]
    }
   ],
   "source": [
    "sal=1300000\n",
    "\n",
    "if sal >=50000 and   sal<=100000:\n",
    "    tax=2\n",
    "elif sal >=100001 and   sal<=200000:\n",
    "     tax=3\n",
    "elif sal >=200001 and   sal<=500000:\n",
    "     tax=4\n",
    "else:\n",
    "     tax=5\n",
    "\n",
    "                    \n",
    "print(\"tax rate=\",tax)\n",
    "amount=sal*tax/100\n",
    "print(\"tax value calculated=\",amount)\n",
    "print('done')\n",
    "    \n",
    "    \n",
    "\n",
    "    "
   ]
  },
  {
   "cell_type": "code",
   "execution_count": 1,
   "metadata": {},
   "outputs": [
    {
     "name": "stdout",
     "output_type": "stream",
     "text": [
      "enter the salary11\n",
      "tax rate= 0\n",
      "tax value calculated= 0.0\n",
      "Net Salary= 11.0\n",
      "done\n"
     ]
    }
   ],
   "source": [
    "sal=int(input('enter the salary'))\n",
    "\n",
    "if sal<50000:\n",
    "    tax=0\n",
    "elif sal >=50000 and   sal<=100000:\n",
    "    tax=2 \n",
    "elif sal >=100001 and   sal<=200000:\n",
    "     tax=3\n",
    "elif sal >=200001 and   sal<=500000:\n",
    "     tax=4\n",
    "else:\n",
    "     tax=5\n",
    "                    \n",
    "print(\"tax rate=\",tax)\n",
    "\n",
    "def calculate(s,t):\n",
    "    amount = s*t/100\n",
    "    return amount\n",
    "\n",
    "amount = calculate(sal,tax)\n",
    "\n",
    "print(\"tax value calculated=\",amount)\n",
    "\n",
    "net=sal-amount\n",
    "print(\"Net Salary=\",net)\n",
    "\n",
    "print('done')\n",
    "    \n"
   ]
  },
  {
   "cell_type": "code",
   "execution_count": 2,
   "metadata": {},
   "outputs": [
    {
     "name": "stdout",
     "output_type": "stream",
     "text": [
      "please enter marks911\n",
      "percentage= 82\n",
      "grade = B+\n"
     ]
    }
   ],
   "source": [
    "value = int(input(\"please enter marks\"))\n",
    "marks = value*100//1100 \n",
    "if marks > 90:\n",
    "    GRADE = 'A+'\n",
    "elif marks > 80 and marks< 90:\n",
    "        GRADE = 'B+'\n",
    "elif marks > 70  and marks<80:\n",
    "        GRADE = 'C-' \n",
    "elif marks > 60 and  marks<70:\n",
    "        GRADE = 'D-'\n",
    "elif marks > 50 and marks<60 :\n",
    "        GRADE ='E-'\n",
    "elif marks > 40 and  marks< 50:\n",
    "        GRADE = 'F-'\n",
    "else:\n",
    "    GRADE = 'NONE'\n",
    "    \n",
    "print ('percentage=',marks)         \n",
    "print ('grade =',GRADE) \n",
    "    "
   ]
  },
  {
   "cell_type": "code",
   "execution_count": null,
   "metadata": {
    "collapsed": true
   },
   "outputs": [],
   "source": [
    "value = int(input(\"please enter marks\"))\n",
    "def grd(x):\n",
    "    marks = x*100/1100\n",
    "    if marks > 90 and marks < 100:\n",
    "        GRADE = 'A+'\n",
    "    elif marks > 80 and marks< 90:\n",
    "        GRADE = 'B+'\n",
    "    elif marks > 70  and marks<80:\n",
    "        GRADE = 'C' \n",
    "    elif marks > 60 and  marks<70:\n",
    "        GRADE = 'D'\n",
    "    elif marks > 50 and marks<60 :\n",
    "        GRADE ='E'\n",
    "    elif marks > 40 and  marks< 50:\n",
    "        GRADE = 'F-'\n",
    "    else:\n",
    "        GRADE = 'NONE'\n",
    "    \n",
    "print ('percentage=',marks)         \n",
    "print ('GRADE =',GRADE) \n",
    "    "
   ]
  },
  {
   "cell_type": "code",
   "execution_count": null,
   "metadata": {},
   "outputs": [],
   "source": []
  },
  {
   "cell_type": "code",
   "execution_count": null,
   "metadata": {
    "collapsed": true
   },
   "outputs": [],
   "source": []
  },
  {
   "cell_type": "code",
   "execution_count": null,
   "metadata": {
    "collapsed": true
   },
   "outputs": [],
   "source": []
  }
 ],
 "metadata": {
  "kernelspec": {
   "display_name": "Python 3",
   "language": "python",
   "name": "python3"
  },
  "language_info": {
   "codemirror_mode": {
    "name": "ipython",
    "version": 3
   },
   "file_extension": ".py",
   "mimetype": "text/x-python",
   "name": "python",
   "nbconvert_exporter": "python",
   "pygments_lexer": "ipython3",
   "version": "3.6.2"
  }
 },
 "nbformat": 4,
 "nbformat_minor": 2
}
