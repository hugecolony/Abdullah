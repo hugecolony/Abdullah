{
 "cells": [
  {
   "cell_type": "code",
   "execution_count": null,
   "metadata": {},
   "outputs": [
    {
     "name": "stdout",
     "output_type": "stream",
     "text": [
      " User_1 Your name pleaseabduallah\n",
      " User_2Your name pleaseumsr]\\\n",
      " User_1 do you want to play rock,paper,scissor :rock\n",
      "User_2 do you want to play rock,paper,scissor :paper\n",
      "paper wins\n",
      "None\n",
      "do u want to repeat y/n : y\n",
      " User_1 Your name pleaseabdullarh\n",
      " User_2Your name pleaseumar\n",
      " User_1 do you want to play rock,paper,scissor :scissor\n",
      "User_2 do you want to play rock,paper,scissor :rock\n",
      "rock wins\n",
      "None\n",
      "do u want to repeat y/n : y\n",
      " User_1 Your name pleaseabdullah\n",
      " User_2Your name pleaseumar\n",
      " User_1 do you want to play rock,paper,scissor :paper\n",
      "User_2 do you want to play rock,paper,scissor :scissor\n",
      "scissor wins\n",
      "None\n",
      "do u want to repeat y/n : y'\n"
     ]
    }
   ],
   "source": [
    "def game():\n",
    "        a = input(\" User_1 Your name please\")\n",
    "        b = input(\" User_2Your name please\")\n",
    "        c = input(\" User_1 do you want to play rock,paper,scissor :\")\n",
    "        d = input(\"User_2 do you want to play rock,paper,scissor :\")\n",
    "        if c == \"rock\"and d == \"rock\":\n",
    "            print(\"ITS A TIE!\")\n",
    "        elif c == \"rock\" and d == \"paper\":\n",
    "            print(\"paper wins\")\n",
    "        elif c == \"rock\" and d== \"scissor\":\n",
    "            print(\"rock wins\")\n",
    "        elif c == \"paper\" and d == \"paper\":\n",
    "            print(\"ITS A TIE\")\n",
    "        elif c == \"paper\" and d == \"scissor\":\n",
    "            print(\"scissor wins\")\n",
    "        elif c == \"paper\" and d == \"rock\":\n",
    "            print(\"paper wins\")\n",
    "        elif c == \"scissor\" and d == \"scissor\":\n",
    "            print(\"ITS A TIE\")\n",
    "        elif c ==\"scissor\" and d == \"rock\":\n",
    "            print(\"rock wins\")\n",
    "        elif c==\"scissor\" and d==\"paper\":\n",
    "            print(\"scissor wins\")\n",
    "        else:\n",
    "            print(\"TRY AGAIN\")\n",
    "\n",
    "option =\"y\"\n",
    "while option !=\"n\":\n",
    "\n",
    "    result = game()\n",
    "    print(result)\n",
    "    option=input(\"do u want to repeat y/n : \")\n"
   ]
  },
  {
   "cell_type": "code",
   "execution_count": null,
   "metadata": {
    "collapsed": true
   },
   "outputs": [],
   "source": []
  },
  {
   "cell_type": "code",
   "execution_count": null,
   "metadata": {
    "collapsed": true
   },
   "outputs": [],
   "source": []
  },
  {
   "cell_type": "code",
   "execution_count": null,
   "metadata": {
    "collapsed": true
   },
   "outputs": [],
   "source": []
  },
  {
   "cell_type": "code",
   "execution_count": null,
   "metadata": {
    "collapsed": true
   },
   "outputs": [],
   "source": []
  }
 ],
 "metadata": {
  "kernelspec": {
   "display_name": "Python 3",
   "language": "python",
   "name": "python3"
  },
  "language_info": {
   "codemirror_mode": {
    "name": "ipython",
    "version": 3
   },
   "file_extension": ".py",
   "mimetype": "text/x-python",
   "name": "python",
   "nbconvert_exporter": "python",
   "pygments_lexer": "ipython3",
   "version": "3.6.2"
  }
 },
 "nbformat": 4,
 "nbformat_minor": 2
}
