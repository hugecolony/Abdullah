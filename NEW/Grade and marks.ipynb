{
 "cells": [
  {
   "cell_type": "code",
   "execution_count": null,
   "metadata": {},
   "outputs": [],
   "source": [
    "value = int(input(\"please enter marks\"))\n",
    "marks = value*100//1100 \n",
    "if marks > 90:\n",
    "    GRADE = 'A+'\n",
    "elif marks > 80 and marks< 90:\n",
    "        GRADE = 'B+'\n",
    "elif marks > 70  and marks<80:\n",
    "        GRADE = 'C-' \n",
    "elif marks > 60 and  marks<70:\n",
    "        GRADE = 'D-'\n",
    "elif marks > 50 and marks<60 :\n",
    "        GRADE ='E-'\n",
    "elif marks > 40 and  marks< 50:\n",
    "        GRADE = 'F-'\n",
    "else:\n",
    "    GRADE = 'NONE'\n",
    "    \n",
    "print ('percentage=',marks)         \n",
    "print ('GRADE =',GRADE) \n",
    "    "
   ]
  },
  {
   "cell_type": "code",
   "execution_count": null,
   "metadata": {
    "collapsed": true
   },
   "outputs": [],
   "source": []
  }
 ],
 "metadata": {
  "kernelspec": {
   "display_name": "Python 3",
   "language": "python",
   "name": "python3"
  },
  "language_info": {
   "codemirror_mode": {
    "name": "ipython",
    "version": 3
   },
   "file_extension": ".py",
   "mimetype": "text/x-python",
   "name": "python",
   "nbconvert_exporter": "python",
   "pygments_lexer": "ipython3",
   "version": "3.6.2"
  }
 },
 "nbformat": 4,
 "nbformat_minor": 2
}
