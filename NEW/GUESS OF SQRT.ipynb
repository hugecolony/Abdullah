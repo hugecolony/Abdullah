{
 "cells": [
  {
   "cell_type": "code",
   "execution_count": null,
   "metadata": {
    "collapsed": true
   },
   "outputs": [],
   "source": [
    "def sqrt(x,guess=0.0):\n",
    "    if x<0:\n",
    "        return None\n",
    "    if good_enough(guess,x):\n",
    "        return guess\n",
    "    else:\n",
    "        new_guess = improve_guess(guess,x)\n",
    "        return sqrt(x,new_guess)"
   ]
  },
  {
   "cell_type": "code",
   "execution_count": null,
   "metadata": {
    "collapsed": true
   },
   "outputs": [],
   "source": [
    "def good_enough(guess,x):\n",
    "    if abs(guess*guess-x)<0.1:\n",
    "        return True\n",
    "    else:\n",
    "        return False\n",
    "    "
   ]
  },
  {
   "cell_type": "code",
   "execution_count": null,
   "metadata": {
    "collapsed": true
   },
   "outputs": [],
   "source": [
    "def improve_guess(guess,x):\n",
    "    return guess + 0.1\n"
   ]
  },
  {
   "cell_type": "code",
   "execution_count": null,
   "metadata": {},
   "outputs": [],
   "source": [
    "print(sqrt(1,1.1))\n",
    "\n"
   ]
  },
  {
   "cell_type": "code",
   "execution_count": null,
   "metadata": {
    "collapsed": true
   },
   "outputs": [],
   "source": [
    "def good_enough(guess,x):\n",
    "    if abs(guess*guess-x)<0.1:\n",
    "        return True\n",
    "    else:\n",
    "        return False\n"
   ]
  },
  {
   "cell_type": "code",
   "execution_count": null,
   "metadata": {
    "collapsed": true
   },
   "outputs": [],
   "source": [
    "def improve_guess(guess,x):\n",
    "    if guess < x:\n",
    "        return guess + 0.1\n",
    "    else:\n",
    "        return guess - 0.1\n",
    "        \n"
   ]
  },
  {
   "cell_type": "code",
   "execution_count": null,
   "metadata": {
    "collapsed": true
   },
   "outputs": [],
   "source": [
    "def sqrt (x ,guess=0.0):\n",
    "    if good_enough(guess,x):\n",
    "        return x\n",
    "    else:\n",
    "        new_guess = improve_guess(guess,x)\n",
    "        return sqrt(new_guess,x)"
   ]
  },
  {
   "cell_type": "code",
   "execution_count": null,
   "metadata": {},
   "outputs": [],
   "source": [
    "v = sqrt(4,1.8)"
   ]
  },
  {
   "cell_type": "code",
   "execution_count": null,
   "metadata": {},
   "outputs": [],
   "source": [
    "for i in range(2,11):\n",
    "    if i%2==0:\n",
    "        continue\n",
    "    else:   \n",
    "        print (i)\n",
    "print(\"THANKS\")        "
   ]
  },
  {
   "cell_type": "code",
   "execution_count": null,
   "metadata": {},
   "outputs": [],
   "source": [
    "n = input(\"please enter a number\")\n",
    "for i in range (2 , n+1):    \n",
    "    for j in range (2,i):\n",
    "        if i%j==0:\n",
    "            break\n",
    "        else:\n",
    "            print(n)\n"
   ]
  },
  {
   "cell_type": "markdown",
   "metadata": {},
   "source": []
  },
  {
   "cell_type": "code",
   "execution_count": null,
   "metadata": {
    "collapsed": true
   },
   "outputs": [],
   "source": [
    "n = input(\"please enter a number\")\n",
    "for i in range (2 , n+1):    \n",
    "    for j in range (2,i):\n",
    "        if i%j==0:\n",
    "            break\n",
    "        else:\n",
    "            print(n)\n"
   ]
  },
  {
   "cell_type": "code",
   "execution_count": null,
   "metadata": {
    "collapsed": true
   },
   "outputs": [],
   "source": []
  }
 ],
 "metadata": {
  "kernelspec": {
   "display_name": "Python 3",
   "language": "python",
   "name": "python3"
  },
  "language_info": {
   "codemirror_mode": {
    "name": "ipython",
    "version": 3
   },
   "file_extension": ".py",
   "mimetype": "text/x-python",
   "name": "python",
   "nbconvert_exporter": "python",
   "pygments_lexer": "ipython3",
   "version": "3.6.2"
  }
 },
 "nbformat": 4,
 "nbformat_minor": 2
}
