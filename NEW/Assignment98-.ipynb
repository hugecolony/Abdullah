{
 "cells": [
  {
   "cell_type": "code",
   "execution_count": 5,
   "metadata": {
    "collapsed": true
   },
   "outputs": [],
   "source": [
    "directory = \"res\"\n",
    "name = \"ass98.txt\""
   ]
  },
  {
   "cell_type": "code",
   "execution_count": 6,
   "metadata": {
    "collapsed": true
   },
   "outputs": [],
   "source": [
    "import os\n"
   ]
  },
  {
   "cell_type": "code",
   "execution_count": 7,
   "metadata": {},
   "outputs": [
    {
     "name": "stdout",
     "output_type": "stream",
     "text": [
      "res\\ass98.txt\n"
     ]
    }
   ],
   "source": [
    "filename =os.path.join(directory,name)\n",
    "print(filename)"
   ]
  },
  {
   "cell_type": "code",
   "execution_count": 8,
   "metadata": {},
   "outputs": [
    {
     "name": "stdout",
     "output_type": "stream",
     "text": [
      "['Name', 'Father Name', 'Address', 'Age']\n",
      "['Ali', 'Tariq', \"'House 10\", \"Street 20'\", '30']\n"
     ]
    }
   ],
   "source": [
    "with open (filename,\"r\")as f:\n",
    "    for line in f:\n",
    "        print(line.strip().split(\",\"))"
   ]
  },
  {
   "cell_type": "code",
   "execution_count": 9,
   "metadata": {},
   "outputs": [
    {
     "name": "stdout",
     "output_type": "stream",
     "text": [
      "['Name', 'Father Name', 'Address', 'Age\\n']\n",
      "['Ali', 'Tariq', \"'House 10\", \"Street 20'\", '30']\n"
     ]
    }
   ],
   "source": [
    "with open (filename,\"r\")as f:\n",
    "    for line in f:\n",
    "        print(line.split(\",\"))"
   ]
  },
  {
   "cell_type": "code",
   "execution_count": 10,
   "metadata": {
    "collapsed": true
   },
   "outputs": [],
   "source": [
    "s = \"Ali,Tariq,‘House 10, Street 20’, 30\""
   ]
  },
  {
   "cell_type": "code",
   "execution_count": 11,
   "metadata": {},
   "outputs": [
    {
     "data": {
      "text/plain": [
       "'Ali,Tariq,‘House 10, Street 20’, 30'"
      ]
     },
     "execution_count": 11,
     "metadata": {},
     "output_type": "execute_result"
    }
   ],
   "source": [
    "s\n"
   ]
  },
  {
   "cell_type": "code",
   "execution_count": 12,
   "metadata": {
    "collapsed": true
   },
   "outputs": [],
   "source": [
    "rows =[]\n",
    "def split_safe(s):\n",
    "    for line in s:\n",
    "        print(line)"
   ]
  },
  {
   "cell_type": "code",
   "execution_count": 13,
   "metadata": {},
   "outputs": [
    {
     "name": "stdout",
     "output_type": "stream",
     "text": [
      "A\n",
      "l\n",
      "i\n",
      ",\n",
      "T\n",
      "a\n",
      "r\n",
      "i\n",
      "q\n",
      ",\n",
      "‘\n",
      "H\n",
      "o\n",
      "u\n",
      "s\n",
      "e\n",
      " \n",
      "1\n",
      "0\n",
      ",\n",
      " \n",
      "S\n",
      "t\n",
      "r\n",
      "e\n",
      "e\n",
      "t\n",
      " \n",
      "2\n",
      "0\n",
      "’\n",
      ",\n",
      " \n",
      "3\n",
      "0\n"
     ]
    }
   ],
   "source": [
    "split_safe(s)"
   ]
  },
  {
   "cell_type": "code",
   "execution_count": 14,
   "metadata": {},
   "outputs": [
    {
     "data": {
      "text/plain": [
       "\"Ali,Tariq,'house 10,Street 20',30\""
      ]
     },
     "execution_count": 14,
     "metadata": {},
     "output_type": "execute_result"
    }
   ],
   "source": [
    "a=\"Ali,Tariq,'house 10,Street 20',30\".strip(\"'\")\n",
    "a"
   ]
  },
  {
   "cell_type": "code",
   "execution_count": 15,
   "metadata": {
    "collapsed": true
   },
   "outputs": [],
   "source": [
    "def split_safe(s):\n",
    "    z =\"\"\n",
    "    li1 =[]\n",
    "    li2= []\n",
    "    if s==(\"\"):\n",
    "        return li1\n",
    "    for i in li1:\n",
    "        for j in li2:\n",
    "            print(j)\n",
    "            if i==(\"\"):\n",
    "                boot==False\n",
    "                continue\n",
    "            elif i ==(\"\"):\n",
    "                boot ==True\n",
    "                z=str(i)\n",
    "                continue\n",
    "            elif i ==(\",\"):\n",
    "                z = \"\"\n",
    "                z = str(i)\n",
    "                li2.append(s)\n",
    "    \n",
    "    \n",
    "    \n",
    "    "
   ]
  },
  {
   "cell_type": "code",
   "execution_count": 16,
   "metadata": {
    "collapsed": true
   },
   "outputs": [],
   "source": [
    "split_safe(s)"
   ]
  },
  {
   "cell_type": "code",
   "execution_count": 17,
   "metadata": {
    "collapsed": true
   },
   "outputs": [],
   "source": [
    "#https://stackoverflow.com/questions/43360810/python-how-to-skip-the-part-in-a-string-marked-by-certain-symbols"
   ]
  },
  {
   "cell_type": "code",
   "execution_count": 18,
   "metadata": {},
   "outputs": [
    {
     "ename": "IndentationError",
     "evalue": "expected an indented block (<ipython-input-18-114c22b367c9>, line 12)",
     "output_type": "error",
     "traceback": [
      "\u001b[1;36m  File \u001b[1;32m\"<ipython-input-18-114c22b367c9>\"\u001b[1;36m, line \u001b[1;32m12\u001b[0m\n\u001b[1;33m    print(li2)\u001b[0m\n\u001b[1;37m    ^\u001b[0m\n\u001b[1;31mIndentationError\u001b[0m\u001b[1;31m:\u001b[0m expected an indented block\n"
     ]
    }
   ],
   "source": [
    "def split_safe(s):\n",
    "    z =\"\"\n",
    "    li1 =[]\n",
    "    li2=[]\n",
    "    for i in s:\n",
    "        if i == (\",\"):\n",
    "            z = str(i)\n",
    "            li1.append(z)\n",
    "        elif i ==(\"\"):\n",
    "            \n",
    "        \n",
    "    print(li2)\n",
    "split_safe(\"Ali,Tariq,‘House 10, Street 20’, 30\")"
   ]
  },
  {
   "cell_type": "code",
   "execution_count": 19,
   "metadata": {},
   "outputs": [
    {
     "name": "stdout",
     "output_type": "stream",
     "text": [
      "Help on list object:\n",
      "\n",
      "class list(object)\n",
      " |  list() -> new empty list\n",
      " |  list(iterable) -> new list initialized from iterable's items\n",
      " |  \n",
      " |  Methods defined here:\n",
      " |  \n",
      " |  __add__(self, value, /)\n",
      " |      Return self+value.\n",
      " |  \n",
      " |  __contains__(self, key, /)\n",
      " |      Return key in self.\n",
      " |  \n",
      " |  __delitem__(self, key, /)\n",
      " |      Delete self[key].\n",
      " |  \n",
      " |  __eq__(self, value, /)\n",
      " |      Return self==value.\n",
      " |  \n",
      " |  __ge__(self, value, /)\n",
      " |      Return self>=value.\n",
      " |  \n",
      " |  __getattribute__(self, name, /)\n",
      " |      Return getattr(self, name).\n",
      " |  \n",
      " |  __getitem__(...)\n",
      " |      x.__getitem__(y) <==> x[y]\n",
      " |  \n",
      " |  __gt__(self, value, /)\n",
      " |      Return self>value.\n",
      " |  \n",
      " |  __iadd__(self, value, /)\n",
      " |      Implement self+=value.\n",
      " |  \n",
      " |  __imul__(self, value, /)\n",
      " |      Implement self*=value.\n",
      " |  \n",
      " |  __init__(self, /, *args, **kwargs)\n",
      " |      Initialize self.  See help(type(self)) for accurate signature.\n",
      " |  \n",
      " |  __iter__(self, /)\n",
      " |      Implement iter(self).\n",
      " |  \n",
      " |  __le__(self, value, /)\n",
      " |      Return self<=value.\n",
      " |  \n",
      " |  __len__(self, /)\n",
      " |      Return len(self).\n",
      " |  \n",
      " |  __lt__(self, value, /)\n",
      " |      Return self<value.\n",
      " |  \n",
      " |  __mul__(self, value, /)\n",
      " |      Return self*value.n\n",
      " |  \n",
      " |  __ne__(self, value, /)\n",
      " |      Return self!=value.\n",
      " |  \n",
      " |  __new__(*args, **kwargs) from builtins.type\n",
      " |      Create and return a new object.  See help(type) for accurate signature.\n",
      " |  \n",
      " |  __repr__(self, /)\n",
      " |      Return repr(self).\n",
      " |  \n",
      " |  __reversed__(...)\n",
      " |      L.__reversed__() -- return a reverse iterator over the list\n",
      " |  \n",
      " |  __rmul__(self, value, /)\n",
      " |      Return self*value.\n",
      " |  \n",
      " |  __setitem__(self, key, value, /)\n",
      " |      Set self[key] to value.\n",
      " |  \n",
      " |  __sizeof__(...)\n",
      " |      L.__sizeof__() -- size of L in memory, in bytes\n",
      " |  \n",
      " |  append(...)\n",
      " |      L.append(object) -> None -- append object to end\n",
      " |  \n",
      " |  clear(...)\n",
      " |      L.clear() -> None -- remove all items from L\n",
      " |  \n",
      " |  copy(...)\n",
      " |      L.copy() -> list -- a shallow copy of L\n",
      " |  \n",
      " |  count(...)\n",
      " |      L.count(value) -> integer -- return number of occurrences of value\n",
      " |  \n",
      " |  extend(...)\n",
      " |      L.extend(iterable) -> None -- extend list by appending elements from the iterable\n",
      " |  \n",
      " |  index(...)\n",
      " |      L.index(value, [start, [stop]]) -> integer -- return first index of value.\n",
      " |      Raises ValueError if the value is not present.\n",
      " |  \n",
      " |  insert(...)\n",
      " |      L.insert(index, object) -- insert object before index\n",
      " |  \n",
      " |  pop(...)\n",
      " |      L.pop([index]) -> item -- remove and return item at index (default last).\n",
      " |      Raises IndexError if list is empty or index is out of range.\n",
      " |  \n",
      " |  remove(...)\n",
      " |      L.remove(value) -> None -- remove first occurrence of value.\n",
      " |      Raises ValueError if the value is not present.\n",
      " |  \n",
      " |  reverse(...)\n",
      " |      L.reverse() -- reverse *IN PLACE*\n",
      " |  \n",
      " |  sort(...)\n",
      " |      L.sort(key=None, reverse=False) -> None -- stable sort *IN PLACE*\n",
      " |  \n",
      " |  ----------------------------------------------------------------------\n",
      " |  Data and other attributes defined here:\n",
      " |  \n",
      " |  __hash__ = None\n",
      "\n"
     ]
    }
   ],
   "source": [
    "help(str)"
   ]
  },
  {
   "cell_type": "code",
   "execution_count": 20,
   "metadata": {
    "collapsed": true
   },
   "outputs": [],
   "source": [
    "def split_safe(s):\n",
    "    r =\"'\"\n",
    "    z=[]\n",
    "    bool=0\n",
    "    for i in s:\n",
    "        if i==(\",\") and bool==0:\n",
    "                r=r+\"','\"        \n",
    "        else:\n",
    "            if i==\"'\":\n",
    "                bool=1\n",
    "            if i!=(\"'\") :\n",
    "                r=r+i\n",
    "    r=r+\"'\"\n",
    "    print(r)\n",
    "    z.append(r)\n",
    "    return(z)\n",
    "          "
   ]
  },
  {
   "cell_type": "code",
   "execution_count": 21,
   "metadata": {},
   "outputs": [
    {
     "name": "stdout",
     "output_type": "stream",
     "text": [
      "'Ali','Tariq','house 10,Street 20,30'\n",
      "[\"'Ali','Tariq','house 10,Street 20,30'\"]\n"
     ]
    }
   ],
   "source": [
    "str=split_safe(\"Ali,Tariq,'house 10,Street 20',30\")\n",
    "print(str)"
   ]
  },
  {
   "cell_type": "code",
   "execution_count": 22,
   "metadata": {
    "collapsed": true
   },
   "outputs": [],
   "source": [
    "def split_safe(s):\n",
    "    z =\"\"\n",
    "    li1 =[]\n",
    "    li2= []\n",
    "    if s==(\"\"):\n",
    "        return li1\n",
    "    for i in s:\n",
    "        for j in i:\n",
    "            print(j)\n",
    "        if i==(\"\"):\n",
    "            boot==False\n",
    "            z = str(i)\n",
    "        elif i ==(\"\"):\n",
    "            boot ==True\n",
    "            continue\n",
    "        elif i ==(\",\"):\n",
    "            z = str(i)\n",
    "            li2.append(z)\n"
   ]
  },
  {
   "cell_type": "code",
   "execution_count": null,
   "metadata": {
    "collapsed": true
   },
   "outputs": [],
   "source": [
    "\n"
   ]
  },
  {
   "cell_type": "code",
   "execution_count": 23,
   "metadata": {
    "collapsed": true
   },
   "outputs": [],
   "source": [
    "a = []\n",
    "def split_safe(s):\n",
    "    s.replace(\"'\",\"\")\n",
    "    a.append(s)\n",
    "    print(a)\n",
    "    \n",
    "    "
   ]
  },
  {
   "cell_type": "code",
   "execution_count": 24,
   "metadata": {},
   "outputs": [
    {
     "name": "stdout",
     "output_type": "stream",
     "text": [
      "['Ali,Tariq,‘House 10, Street 20’, 30']\n"
     ]
    }
   ],
   "source": [
    "split_safe(s)"
   ]
  },
  {
   "cell_type": "code",
   "execution_count": 25,
   "metadata": {},
   "outputs": [
    {
     "data": {
      "text/plain": [
       "['Ali,Tariq,‘House 10, Street 20’, 30']"
      ]
     },
     "execution_count": 25,
     "metadata": {},
     "output_type": "execute_result"
    }
   ],
   "source": [
    "s = \"Ali,Tariq,‘House 10, Street 20’, 30\"\n",
    "def split_safe(s):\n",
    "    lst=['']\n",
    "    index=0\n",
    "    comma=False\n",
    "    for w in s:\n",
    "        if w=='' and comma ==False:\n",
    "            lst.append()\n",
    "            index +=1\n",
    "        elif w==\"'\":\n",
    "            comma=True\n",
    "        elif w==\"'\":\n",
    "            comma=False\n",
    "        else:\n",
    "            lst[index]=lst[index]+w        \n",
    "    return lst\n",
    "split_safe(s)\n",
    "            "
   ]
  },
  {
   "cell_type": "code",
   "execution_count": 26,
   "metadata": {},
   "outputs": [
    {
     "data": {
      "text/plain": [
       "['Ali,Tariq,‘House 10, Street 20’, 30']"
      ]
     },
     "execution_count": 26,
     "metadata": {},
     "output_type": "execute_result"
    }
   ],
   "source": [
    "s = \"Ali,Tariq,‘House 10, Street 20’, 30\"\n",
    "def split_safe(s):\n",
    "    lst=['']\n",
    "    index=0\n",
    "    comma=False\n",
    "    for w in s:\n",
    "        if w ==\"\"and comma ==False:\n",
    "            lst.append('')\n",
    "            index += 1\n",
    "        elif w==\"'\":\n",
    "            comma=True\n",
    "        elif w==\"'\":\n",
    "            comma=False\n",
    "        else:\n",
    "            lst[index]=lst[index]+w\n",
    "    return lst\n",
    "split_safe(s)            "
   ]
  },
  {
   "cell_type": "code",
   "execution_count": 62,
   "metadata": {
    "collapsed": true
   },
   "outputs": [],
   "source": [
    "def split_safe(s):\n",
    "    check=s.split(\"'\")\n",
    "    ans=[]\n",
    "    for i in range(len(check)):\n",
    "        if i%2==0:\n",
    "            for j in check[i].split(\",\"):\n",
    "                    f=j.strip()\n",
    "                    if len(f)>0:\n",
    "                        ans.append(f)\n",
    "        else:\n",
    "            f=check[i].strip()\n",
    "            if len(f)>0:\n",
    "                ans.append(f)\n",
    "    return ans\n"
   ]
  },
  {
   "cell_type": "code",
   "execution_count": 123,
   "metadata": {
    "collapsed": true
   },
   "outputs": [],
   "source": [
    "\n",
    "def read_data(directory,name):\n",
    "    import os\n",
    "    full=os.path.join(directory,name)\n",
    "    with open (full,\"w\")as f:\n",
    "        f.write(full)\n",
    "        z=split_safe(s)\n",
    "        print(z)\n",
    "    \n",
    "    "
   ]
  },
  {
   "cell_type": "code",
   "execution_count": 124,
   "metadata": {},
   "outputs": [
    {
     "data": {
      "text/plain": [
       "['Ali', 'Tariq', '‘House 10', 'Street 20’', '30']"
      ]
     },
     "execution_count": 124,
     "metadata": {},
     "output_type": "execute_result"
    }
   ],
   "source": [
    "split_safe(\"Ali,Tariq,‘House 10, Street 20’, 30\")"
   ]
  },
  {
   "cell_type": "code",
   "execution_count": 125,
   "metadata": {},
   "outputs": [
    {
     "name": "stdout",
     "output_type": "stream",
     "text": [
      "['Ali', 'Tariq', '‘House 10', 'Street 20’', '30']\n",
      "None\n"
     ]
    }
   ],
   "source": [
    "print(read_data(\"res\",\"file.txt\"))"
   ]
  },
  {
   "cell_type": "code",
   "execution_count": null,
   "metadata": {
    "collapsed": true
   },
   "outputs": [],
   "source": [
    "def read_data(directory,filename):\n",
    "    import os\n",
    "\tfull=os.path.join(directory,filename)\n",
    "\twith open(full,\"w+\")as f:\n",
    "\t\t\tf.write(\"open\").split_safe()\n",
    "\t\t\t#return(x)"
   ]
  }
 ],
 "metadata": {
  "kernelspec": {
   "display_name": "Python 3",
   "language": "python",
   "name": "python3"
  },
  "language_info": {
   "codemirror_mode": {
    "name": "ipython",
    "version": 3
   },
   "file_extension": ".py",
   "mimetype": "text/x-python",
   "name": "python",
   "nbconvert_exporter": "python",
   "pygments_lexer": "ipython3",
   "version": "3.6.2"
  }
 },
 "nbformat": 4,
 "nbformat_minor": 2
}
